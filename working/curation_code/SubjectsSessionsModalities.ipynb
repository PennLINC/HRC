{
 "cells": [
  {
   "cell_type": "markdown",
   "id": "innovative-stadium",
   "metadata": {},
   "source": [
    "# Understanding the Subjects, Sessions, & Modalities in the Project\n",
    "\n",
    "This notebook quickly wrangles the subjects, sessions, and modalities in the project"
   ]
  },
  {
   "cell_type": "code",
   "execution_count": 4,
   "id": "presidential-banana",
   "metadata": {},
   "outputs": [],
   "source": [
    "from bids import BIDSLayout\n",
    "\n",
    "layout = BIDSLayout('/cbica/projects/RBC/HRC/working/BIDS', validate=False)"
   ]
  },
  {
   "cell_type": "code",
   "execution_count": 8,
   "id": "encouraging-inflation",
   "metadata": {},
   "outputs": [
    {
     "data": {
      "text/plain": [
       "BIDS Layout: .../projects/RBC/HRC/working/BIDS | Subjects: 608 | Sessions: 905 | Runs: 751"
      ]
     },
     "execution_count": 8,
     "metadata": {},
     "output_type": "execute_result"
    }
   ],
   "source": [
    "layout"
   ]
  },
  {
   "cell_type": "markdown",
   "id": "continuing-light",
   "metadata": {},
   "source": [
    "What are the session values?"
   ]
  },
  {
   "cell_type": "code",
   "execution_count": 9,
   "id": "social-israel",
   "metadata": {},
   "outputs": [
    {
     "data": {
      "text/plain": [
       "['1', '2']"
      ]
     },
     "execution_count": 9,
     "metadata": {},
     "output_type": "execute_result"
    }
   ],
   "source": [
    "layout.get_sessions()"
   ]
  },
  {
   "cell_type": "markdown",
   "id": "boolean-bridges",
   "metadata": {},
   "source": [
    "What folders (modalities) do we have?"
   ]
  },
  {
   "cell_type": "code",
   "execution_count": 18,
   "id": "diagnostic-analyst",
   "metadata": {},
   "outputs": [],
   "source": [
    "df = layout.to_df()"
   ]
  },
  {
   "cell_type": "code",
   "execution_count": 23,
   "id": "digital-bristol",
   "metadata": {},
   "outputs": [
    {
     "data": {
      "text/plain": [
       "{'anat', 'dwi', 'func', nan}"
      ]
     },
     "execution_count": 23,
     "metadata": {},
     "output_type": "execute_result"
    }
   ],
   "source": [
    "set(df.datatype.values)"
   ]
  },
  {
   "cell_type": "code",
   "execution_count": 27,
   "id": "super-carol",
   "metadata": {},
   "outputs": [
    {
     "name": "stdout",
     "output_type": "stream",
     "text": [
      "Acquisitions in nan :\n",
      "set()\n",
      "Acquisitions in anat :\n",
      "{'T1w'}\n",
      "Acquisitions in dwi :\n",
      "{'dwi'}\n",
      "Acquisitions in func :\n",
      "{'bold'}\n"
     ]
    }
   ],
   "source": [
    "for x in set(df.datatype.values):\n",
    "    print(\"Acquisitions in\", x, \":\")\n",
    "    print(set(df[df.datatype == x].suffix))\n"
   ]
  },
  {
   "cell_type": "code",
   "execution_count": 28,
   "id": "behavioral-performer",
   "metadata": {},
   "outputs": [
    {
     "data": {
      "text/html": [
       "<div>\n",
       "<style scoped>\n",
       "    .dataframe tbody tr th:only-of-type {\n",
       "        vertical-align: middle;\n",
       "    }\n",
       "\n",
       "    .dataframe tbody tr th {\n",
       "        vertical-align: top;\n",
       "    }\n",
       "\n",
       "    .dataframe thead th {\n",
       "        text-align: right;\n",
       "    }\n",
       "</style>\n",
       "<table border=\"1\" class=\"dataframe\">\n",
       "  <thead>\n",
       "    <tr style=\"text-align: right;\">\n",
       "      <th>entity</th>\n",
       "      <th>path</th>\n",
       "      <th>datatype</th>\n",
       "      <th>extension</th>\n",
       "      <th>reconstruction</th>\n",
       "      <th>run</th>\n",
       "      <th>session</th>\n",
       "      <th>subject</th>\n",
       "      <th>suffix</th>\n",
       "      <th>task</th>\n",
       "    </tr>\n",
       "  </thead>\n",
       "  <tbody>\n",
       "    <tr>\n",
       "      <th>0</th>\n",
       "      <td>/cbica/projects/RBC/HRC/working/BIDS/dataset_d...</td>\n",
       "      <td>NaN</td>\n",
       "      <td>json</td>\n",
       "      <td>NaN</td>\n",
       "      <td>NaN</td>\n",
       "      <td>NaN</td>\n",
       "      <td>NaN</td>\n",
       "      <td>description</td>\n",
       "      <td>NaN</td>\n",
       "    </tr>\n",
       "    <tr>\n",
       "      <th>1</th>\n",
       "      <td>/cbica/projects/RBC/HRC/working/BIDS/sub-10001...</td>\n",
       "      <td>anat</td>\n",
       "      <td>json</td>\n",
       "      <td>refaced</td>\n",
       "      <td>1</td>\n",
       "      <td>1</td>\n",
       "      <td>10001</td>\n",
       "      <td>T1w</td>\n",
       "      <td>NaN</td>\n",
       "    </tr>\n",
       "    <tr>\n",
       "      <th>2</th>\n",
       "      <td>/cbica/projects/RBC/HRC/working/BIDS/sub-10001...</td>\n",
       "      <td>anat</td>\n",
       "      <td>nii.gz</td>\n",
       "      <td>refaced</td>\n",
       "      <td>1</td>\n",
       "      <td>1</td>\n",
       "      <td>10001</td>\n",
       "      <td>T1w</td>\n",
       "      <td>NaN</td>\n",
       "    </tr>\n",
       "    <tr>\n",
       "      <th>3</th>\n",
       "      <td>/cbica/projects/RBC/HRC/working/BIDS/sub-10001...</td>\n",
       "      <td>dwi</td>\n",
       "      <td>bval</td>\n",
       "      <td>NaN</td>\n",
       "      <td>1</td>\n",
       "      <td>1</td>\n",
       "      <td>10001</td>\n",
       "      <td>dwi</td>\n",
       "      <td>NaN</td>\n",
       "    </tr>\n",
       "    <tr>\n",
       "      <th>4</th>\n",
       "      <td>/cbica/projects/RBC/HRC/working/BIDS/sub-10001...</td>\n",
       "      <td>dwi</td>\n",
       "      <td>bvec</td>\n",
       "      <td>NaN</td>\n",
       "      <td>1</td>\n",
       "      <td>1</td>\n",
       "      <td>10001</td>\n",
       "      <td>dwi</td>\n",
       "      <td>NaN</td>\n",
       "    </tr>\n",
       "    <tr>\n",
       "      <th>...</th>\n",
       "      <td>...</td>\n",
       "      <td>...</td>\n",
       "      <td>...</td>\n",
       "      <td>...</td>\n",
       "      <td>...</td>\n",
       "      <td>...</td>\n",
       "      <td>...</td>\n",
       "      <td>...</td>\n",
       "      <td>...</td>\n",
       "    </tr>\n",
       "    <tr>\n",
       "      <th>7071</th>\n",
       "      <td>/cbica/projects/RBC/HRC/working/BIDS/sub-21927...</td>\n",
       "      <td>func</td>\n",
       "      <td>json</td>\n",
       "      <td>NaN</td>\n",
       "      <td>1</td>\n",
       "      <td>2</td>\n",
       "      <td>21927</td>\n",
       "      <td>bold</td>\n",
       "      <td>rest</td>\n",
       "    </tr>\n",
       "    <tr>\n",
       "      <th>7072</th>\n",
       "      <td>/cbica/projects/RBC/HRC/working/BIDS/sub-21927...</td>\n",
       "      <td>func</td>\n",
       "      <td>nii.gz</td>\n",
       "      <td>NaN</td>\n",
       "      <td>1</td>\n",
       "      <td>2</td>\n",
       "      <td>21927</td>\n",
       "      <td>bold</td>\n",
       "      <td>rest</td>\n",
       "    </tr>\n",
       "    <tr>\n",
       "      <th>7073</th>\n",
       "      <td>/cbica/projects/RBC/HRC/working/BIDS/sub-21927...</td>\n",
       "      <td>func</td>\n",
       "      <td>json</td>\n",
       "      <td>NaN</td>\n",
       "      <td>2</td>\n",
       "      <td>2</td>\n",
       "      <td>21927</td>\n",
       "      <td>bold</td>\n",
       "      <td>rest</td>\n",
       "    </tr>\n",
       "    <tr>\n",
       "      <th>7074</th>\n",
       "      <td>/cbica/projects/RBC/HRC/working/BIDS/sub-21927...</td>\n",
       "      <td>func</td>\n",
       "      <td>nii.gz</td>\n",
       "      <td>NaN</td>\n",
       "      <td>2</td>\n",
       "      <td>2</td>\n",
       "      <td>21927</td>\n",
       "      <td>bold</td>\n",
       "      <td>rest</td>\n",
       "    </tr>\n",
       "    <tr>\n",
       "      <th>7075</th>\n",
       "      <td>/cbica/projects/RBC/HRC/working/BIDS/README</td>\n",
       "      <td>NaN</td>\n",
       "      <td>NaN</td>\n",
       "      <td>NaN</td>\n",
       "      <td>NaN</td>\n",
       "      <td>NaN</td>\n",
       "      <td>NaN</td>\n",
       "      <td>NaN</td>\n",
       "      <td>NaN</td>\n",
       "    </tr>\n",
       "  </tbody>\n",
       "</table>\n",
       "<p>7076 rows × 9 columns</p>\n",
       "</div>"
      ],
      "text/plain": [
       "entity                                               path datatype extension  \\\n",
       "0       /cbica/projects/RBC/HRC/working/BIDS/dataset_d...      NaN      json   \n",
       "1       /cbica/projects/RBC/HRC/working/BIDS/sub-10001...     anat      json   \n",
       "2       /cbica/projects/RBC/HRC/working/BIDS/sub-10001...     anat    nii.gz   \n",
       "3       /cbica/projects/RBC/HRC/working/BIDS/sub-10001...      dwi      bval   \n",
       "4       /cbica/projects/RBC/HRC/working/BIDS/sub-10001...      dwi      bvec   \n",
       "...                                                   ...      ...       ...   \n",
       "7071    /cbica/projects/RBC/HRC/working/BIDS/sub-21927...     func      json   \n",
       "7072    /cbica/projects/RBC/HRC/working/BIDS/sub-21927...     func    nii.gz   \n",
       "7073    /cbica/projects/RBC/HRC/working/BIDS/sub-21927...     func      json   \n",
       "7074    /cbica/projects/RBC/HRC/working/BIDS/sub-21927...     func    nii.gz   \n",
       "7075          /cbica/projects/RBC/HRC/working/BIDS/README      NaN       NaN   \n",
       "\n",
       "entity reconstruction  run session subject       suffix  task  \n",
       "0                 NaN  NaN     NaN     NaN  description   NaN  \n",
       "1             refaced    1       1   10001          T1w   NaN  \n",
       "2             refaced    1       1   10001          T1w   NaN  \n",
       "3                 NaN    1       1   10001          dwi   NaN  \n",
       "4                 NaN    1       1   10001          dwi   NaN  \n",
       "...               ...  ...     ...     ...          ...   ...  \n",
       "7071              NaN    1       2   21927         bold  rest  \n",
       "7072              NaN    1       2   21927         bold  rest  \n",
       "7073              NaN    2       2   21927         bold  rest  \n",
       "7074              NaN    2       2   21927         bold  rest  \n",
       "7075              NaN  NaN     NaN     NaN          NaN   NaN  \n",
       "\n",
       "[7076 rows x 9 columns]"
      ]
     },
     "execution_count": 28,
     "metadata": {},
     "output_type": "execute_result"
    }
   ],
   "source": [
    "df"
   ]
  },
  {
   "cell_type": "code",
   "execution_count": 29,
   "id": "functioning-buddy",
   "metadata": {},
   "outputs": [
    {
     "name": "stdout",
     "output_type": "stream",
     "text": [
      "Filetypes in nan :\n",
      "set()\n",
      "Filetypes in anat :\n",
      "{'nii.gz', 'json'}\n",
      "Filetypes in dwi :\n",
      "{'bval', 'nii.gz', 'bvec', 'json'}\n",
      "Filetypes in func :\n",
      "{'nii.gz', 'json'}\n"
     ]
    }
   ],
   "source": [
    "for x in set(df.datatype.values):\n",
    "    print(\"Filetypes in\", x, \":\")\n",
    "    print(set(df[df.datatype == x].extension))\n"
   ]
  },
  {
   "cell_type": "markdown",
   "id": "persistent-security",
   "metadata": {},
   "source": [
    "Are there special tasks?"
   ]
  },
  {
   "cell_type": "code",
   "execution_count": 31,
   "id": "dental-denmark",
   "metadata": {},
   "outputs": [
    {
     "data": {
      "text/plain": [
       "{'rest'}"
      ]
     },
     "execution_count": 31,
     "metadata": {},
     "output_type": "execute_result"
    }
   ],
   "source": [
    "set(df[df.datatype == \"func\"].task)"
   ]
  },
  {
   "cell_type": "markdown",
   "id": "duplicate-stranger",
   "metadata": {},
   "source": [
    "Are there metadata fields that should be removed?"
   ]
  },
  {
   "cell_type": "code",
   "execution_count": 36,
   "id": "former-boulder",
   "metadata": {},
   "outputs": [
    {
     "name": "stdout",
     "output_type": "stream",
     "text": [
      "['Acknowledgements', 'AcquisitionMatrixPE', 'AcquisitionNumber', 'AcquisitionTime', 'Authors', 'BIDSVersion', 'CoilString', 'ConversionSoftware', 'ConversionSoftwareVersion', 'DatasetDOI', 'DeviceSerialNumber', 'Dim1Size', 'Dim2Size', 'Dim3Size', 'EchoTime', 'EffectiveEchoSpacing', 'FlipAngle', 'Funding', 'HowToAcknowledge', 'ImageOrientationPatientDICOM', 'ImageType', 'ImagingFrequency', 'InPlanePhaseEncodingDirectionDICOM', 'InstitutionName', 'InternalPulseSequenceName', 'InversionTime', 'License', 'MRAcquisitionType', 'MagneticFieldStrength', 'Manufacturer', 'ManufacturersModelName', 'Modality', 'Name', 'NumVolumes', 'NumberOfAverages', 'Obliquity', 'ParallelReductionFactorInPlane', 'PatientPosition', 'PercentPhaseFOV', 'PercentSampling', 'PhaseEncodingDirection', 'PhaseEncodingPolarityGE', 'PixelBandwidth', 'ProcedureStepDescription', 'ProtocolName', 'PulseSequenceName', 'ReconMatrixPE', 'ReferencesAndLinks', 'RepetitionTime', 'SAR', 'ScanOptions', 'ScanningSequence', 'SequenceVariant', 'SeriesDescription', 'SeriesNumber', 'SliceThickness', 'SliceTiming', 'SoftwareVersions', 'SpacingBetweenSlices', 'StationName', 'TaskName', 'TotalReadoutTime', 'TriggerDelayTime', 'VoxelSizeDim1', 'VoxelSizeDim2', 'VoxelSizeDim3', 'template']\n"
     ]
    }
   ],
   "source": [
    "#the following stores the output of a bash command in a variable\n",
    "fields = !bond-print-metadata-fields ../BIDS/\n",
    "print(fields)"
   ]
  },
  {
   "cell_type": "code",
   "execution_count": 37,
   "id": "comfortable-vegetable",
   "metadata": {},
   "outputs": [],
   "source": [
    "sensitive = \"AccessionNumber, PatientBirthDate, PatientID, PatientName, PatientSex, AcquisitionDateTime, SeriesInstanceUID, DeviceSerialNumber, InstitutionAddress, AcquisitionTime, StationName, ReferringPhysicianName, InstitutionName, InstitutionalDepartmentName, AccessionNumber\".split(\",\")"
   ]
  },
  {
   "cell_type": "code",
   "execution_count": 39,
   "id": "possible-bennett",
   "metadata": {},
   "outputs": [
    {
     "data": {
      "text/plain": [
       "False"
      ]
     },
     "execution_count": 39,
     "metadata": {},
     "output_type": "execute_result"
    }
   ],
   "source": [
    "any([x in sensitive for x in fields])"
   ]
  },
  {
   "cell_type": "markdown",
   "id": "negative-object",
   "metadata": {},
   "source": [
    "No sensitive metadata that needs to be removed."
   ]
  },
  {
   "cell_type": "code",
   "execution_count": null,
   "id": "organizational-effect",
   "metadata": {},
   "outputs": [],
   "source": []
  }
 ],
 "metadata": {
  "kernelspec": {
   "display_name": "Python 3",
   "language": "python",
   "name": "python3"
  },
  "language_info": {
   "codemirror_mode": {
    "name": "ipython",
    "version": 3
   },
   "file_extension": ".py",
   "mimetype": "text/x-python",
   "name": "python",
   "nbconvert_exporter": "python",
   "pygments_lexer": "ipython3",
   "version": "3.7.8"
  }
 },
 "nbformat": 4,
 "nbformat_minor": 5
}

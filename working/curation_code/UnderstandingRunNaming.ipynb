{
 "cells": [
  {
   "cell_type": "markdown",
   "id": "completed-membrane",
   "metadata": {},
   "source": [
    "# Data Wrangling Runs\n",
    "\n",
    "In this notebook we'll write some code that will tell us about the distribution of data in different runs across the project."
   ]
  },
  {
   "cell_type": "code",
   "execution_count": 1,
   "id": "injured-sugar",
   "metadata": {},
   "outputs": [],
   "source": [
    "dataset_path = '/cbica/projects/RBC/RBC_RAWDATA/bidsdatasets/HRC'"
   ]
  },
  {
   "cell_type": "code",
   "execution_count": 2,
   "id": "southeast-christopher",
   "metadata": {},
   "outputs": [],
   "source": [
    "import glob\n",
    "fnames = glob.glob('{}/*/*/*/*.nii.gz'.format(dataset_path))"
   ]
  },
  {
   "cell_type": "code",
   "execution_count": 3,
   "id": "spare-ecology",
   "metadata": {},
   "outputs": [
    {
     "data": {
      "text/plain": [
       "2714"
      ]
     },
     "execution_count": 3,
     "metadata": {},
     "output_type": "execute_result"
    }
   ],
   "source": [
    "len(fnames)"
   ]
  },
  {
   "cell_type": "code",
   "execution_count": 4,
   "id": "trying-evans",
   "metadata": {},
   "outputs": [
    {
     "name": "stdout",
     "output_type": "stream",
     "text": [
      "['/cbica/projects/RBC/RBC_RAWDATA/bidsdatasets/HRC/sub-10703/ses-1/anat/sub-10703_ses-1_rec-refaced_run-1_T1w.nii.gz', '/cbica/projects/RBC/RBC_RAWDATA/bidsdatasets/HRC/sub-10703/ses-1/func/sub-10703_ses-1_task-rest_run-1_bold.nii.gz', '/cbica/projects/RBC/RBC_RAWDATA/bidsdatasets/HRC/sub-10703/ses-1/dwi/sub-10703_ses-1_run-1_dwi.nii.gz', '/cbica/projects/RBC/RBC_RAWDATA/bidsdatasets/HRC/sub-10703/ses-2/anat/sub-10703_ses-2_rec-refaced_run-1_T1w.nii.gz', '/cbica/projects/RBC/RBC_RAWDATA/bidsdatasets/HRC/sub-10703/ses-2/func/sub-10703_ses-2_task-rest_run-1_bold.nii.gz', '/cbica/projects/RBC/RBC_RAWDATA/bidsdatasets/HRC/sub-10703/ses-2/dwi/sub-10703_ses-2_run-1_dwi.nii.gz', '/cbica/projects/RBC/RBC_RAWDATA/bidsdatasets/HRC/sub-10753/ses-1/anat/sub-10753_ses-1_rec-refaced_run-1_T1w.nii.gz', '/cbica/projects/RBC/RBC_RAWDATA/bidsdatasets/HRC/sub-10753/ses-1/func/sub-10753_ses-1_task-rest_run-1_bold.nii.gz', '/cbica/projects/RBC/RBC_RAWDATA/bidsdatasets/HRC/sub-10753/ses-1/dwi/sub-10753_ses-1_run-1_dwi.nii.gz', '/cbica/projects/RBC/RBC_RAWDATA/bidsdatasets/HRC/sub-20294/ses-1/anat/sub-20294_ses-1_rec-refaced_run-2_T1w.nii.gz', '/cbica/projects/RBC/RBC_RAWDATA/bidsdatasets/HRC/sub-20294/ses-1/anat/sub-20294_ses-1_rec-refaced_run-1_T1w.nii.gz', '/cbica/projects/RBC/RBC_RAWDATA/bidsdatasets/HRC/sub-20294/ses-1/func/sub-20294_ses-1_task-rest_run-1_bold.nii.gz', '/cbica/projects/RBC/RBC_RAWDATA/bidsdatasets/HRC/sub-20294/ses-1/dwi/sub-20294_ses-1_run-1_dwi.nii.gz', '/cbica/projects/RBC/RBC_RAWDATA/bidsdatasets/HRC/sub-10695/ses-1/anat/sub-10695_ses-1_rec-refaced_run-1_T1w.nii.gz', '/cbica/projects/RBC/RBC_RAWDATA/bidsdatasets/HRC/sub-10695/ses-1/dwi/sub-10695_ses-1_run-1_dwi.nii.gz', '/cbica/projects/RBC/RBC_RAWDATA/bidsdatasets/HRC/sub-10695/ses-2/anat/sub-10695_ses-2_rec-refaced_run-1_T1w.nii.gz', '/cbica/projects/RBC/RBC_RAWDATA/bidsdatasets/HRC/sub-10695/ses-2/func/sub-10695_ses-2_task-rest_run-1_bold.nii.gz', '/cbica/projects/RBC/RBC_RAWDATA/bidsdatasets/HRC/sub-10695/ses-2/dwi/sub-10695_ses-2_run-1_dwi.nii.gz', '/cbica/projects/RBC/RBC_RAWDATA/bidsdatasets/HRC/sub-20693/ses-1/anat/sub-20693_ses-1_rec-refaced_run-1_T1w.nii.gz', '/cbica/projects/RBC/RBC_RAWDATA/bidsdatasets/HRC/sub-20693/ses-1/func/sub-20693_ses-1_task-rest_run-1_bold.nii.gz']\n"
     ]
    }
   ],
   "source": [
    "print(fnames[:20])"
   ]
  },
  {
   "cell_type": "code",
   "execution_count": 5,
   "id": "plastic-theta",
   "metadata": {},
   "outputs": [],
   "source": [
    "runs = [x for x in fnames if 'run' in x]"
   ]
  },
  {
   "cell_type": "code",
   "execution_count": 6,
   "id": "previous-niagara",
   "metadata": {},
   "outputs": [
    {
     "data": {
      "text/plain": [
       "2714"
      ]
     },
     "execution_count": 6,
     "metadata": {},
     "output_type": "execute_result"
    }
   ],
   "source": [
    "len(runs)"
   ]
  },
  {
   "cell_type": "code",
   "execution_count": 5,
   "id": "incomplete-whale",
   "metadata": {},
   "outputs": [
    {
     "data": {
      "text/plain": [
       "['/cbica/projects/RBC/RBC_RAWDATA/bidsdatasets/HRC/sub-10703/ses-1/anat/sub-10703_ses-1_rec-refaced_run-1_T1w.nii.gz',\n",
       " '/cbica/projects/RBC/RBC_RAWDATA/bidsdatasets/HRC/sub-10703/ses-1/func/sub-10703_ses-1_task-rest_run-1_bold.nii.gz',\n",
       " '/cbica/projects/RBC/RBC_RAWDATA/bidsdatasets/HRC/sub-10703/ses-1/dwi/sub-10703_ses-1_run-1_dwi.nii.gz',\n",
       " '/cbica/projects/RBC/RBC_RAWDATA/bidsdatasets/HRC/sub-10703/ses-2/anat/sub-10703_ses-2_rec-refaced_run-1_T1w.nii.gz',\n",
       " '/cbica/projects/RBC/RBC_RAWDATA/bidsdatasets/HRC/sub-10703/ses-2/func/sub-10703_ses-2_task-rest_run-1_bold.nii.gz',\n",
       " '/cbica/projects/RBC/RBC_RAWDATA/bidsdatasets/HRC/sub-10703/ses-2/dwi/sub-10703_ses-2_run-1_dwi.nii.gz',\n",
       " '/cbica/projects/RBC/RBC_RAWDATA/bidsdatasets/HRC/sub-10753/ses-1/anat/sub-10753_ses-1_rec-refaced_run-1_T1w.nii.gz',\n",
       " '/cbica/projects/RBC/RBC_RAWDATA/bidsdatasets/HRC/sub-10753/ses-1/func/sub-10753_ses-1_task-rest_run-1_bold.nii.gz',\n",
       " '/cbica/projects/RBC/RBC_RAWDATA/bidsdatasets/HRC/sub-10753/ses-1/dwi/sub-10753_ses-1_run-1_dwi.nii.gz',\n",
       " '/cbica/projects/RBC/RBC_RAWDATA/bidsdatasets/HRC/sub-20294/ses-1/anat/sub-20294_ses-1_rec-refaced_run-2_T1w.nii.gz',\n",
       " '/cbica/projects/RBC/RBC_RAWDATA/bidsdatasets/HRC/sub-20294/ses-1/anat/sub-20294_ses-1_rec-refaced_run-1_T1w.nii.gz',\n",
       " '/cbica/projects/RBC/RBC_RAWDATA/bidsdatasets/HRC/sub-20294/ses-1/func/sub-20294_ses-1_task-rest_run-1_bold.nii.gz',\n",
       " '/cbica/projects/RBC/RBC_RAWDATA/bidsdatasets/HRC/sub-20294/ses-1/dwi/sub-20294_ses-1_run-1_dwi.nii.gz',\n",
       " '/cbica/projects/RBC/RBC_RAWDATA/bidsdatasets/HRC/sub-10695/ses-1/anat/sub-10695_ses-1_rec-refaced_run-1_T1w.nii.gz',\n",
       " '/cbica/projects/RBC/RBC_RAWDATA/bidsdatasets/HRC/sub-10695/ses-1/dwi/sub-10695_ses-1_run-1_dwi.nii.gz',\n",
       " '/cbica/projects/RBC/RBC_RAWDATA/bidsdatasets/HRC/sub-10695/ses-2/anat/sub-10695_ses-2_rec-refaced_run-1_T1w.nii.gz',\n",
       " '/cbica/projects/RBC/RBC_RAWDATA/bidsdatasets/HRC/sub-10695/ses-2/func/sub-10695_ses-2_task-rest_run-1_bold.nii.gz',\n",
       " '/cbica/projects/RBC/RBC_RAWDATA/bidsdatasets/HRC/sub-10695/ses-2/dwi/sub-10695_ses-2_run-1_dwi.nii.gz',\n",
       " '/cbica/projects/RBC/RBC_RAWDATA/bidsdatasets/HRC/sub-20693/ses-1/anat/sub-20693_ses-1_rec-refaced_run-1_T1w.nii.gz',\n",
       " '/cbica/projects/RBC/RBC_RAWDATA/bidsdatasets/HRC/sub-20693/ses-1/func/sub-20693_ses-1_task-rest_run-1_bold.nii.gz']"
      ]
     },
     "execution_count": 5,
     "metadata": {},
     "output_type": "execute_result"
    }
   ],
   "source": [
    "runs[:20]"
   ]
  },
  {
   "cell_type": "code",
   "execution_count": 6,
   "id": "lined-belfast",
   "metadata": {},
   "outputs": [],
   "source": [
    "import pandas as pd\n",
    "\n",
    "df = pd.DataFrame(runs, columns=['source'])"
   ]
  },
  {
   "cell_type": "code",
   "execution_count": 7,
   "id": "general-invite",
   "metadata": {},
   "outputs": [],
   "source": [
    "def parse_slashes(source, ix):\n",
    "    \n",
    "    fields = source.split('/')\n",
    "    \n",
    "    return fields[ix]"
   ]
  },
  {
   "cell_type": "code",
   "execution_count": 8,
   "id": "configured-bumper",
   "metadata": {},
   "outputs": [
    {
     "data": {
      "text/plain": [
       "'ses-1'"
      ]
     },
     "execution_count": 8,
     "metadata": {},
     "output_type": "execute_result"
    }
   ],
   "source": [
    "parse_slashes('/cbica/projects/RBC/RBC_RAWDATA/bidsdatasets/HRC/sub-10703/ses-1/anat/sub-10703_ses-1_rec-refaced_run-1_T1w.nii.gz', 8)"
   ]
  },
  {
   "cell_type": "code",
   "execution_count": 9,
   "id": "sapphire-gather",
   "metadata": {},
   "outputs": [
    {
     "data": {
      "text/html": [
       "<div>\n",
       "<style scoped>\n",
       "    .dataframe tbody tr th:only-of-type {\n",
       "        vertical-align: middle;\n",
       "    }\n",
       "\n",
       "    .dataframe tbody tr th {\n",
       "        vertical-align: top;\n",
       "    }\n",
       "\n",
       "    .dataframe thead th {\n",
       "        text-align: right;\n",
       "    }\n",
       "</style>\n",
       "<table border=\"1\" class=\"dataframe\">\n",
       "  <thead>\n",
       "    <tr style=\"text-align: right;\">\n",
       "      <th></th>\n",
       "      <th>source</th>\n",
       "    </tr>\n",
       "  </thead>\n",
       "  <tbody>\n",
       "    <tr>\n",
       "      <th>0</th>\n",
       "      <td>/cbica/projects/RBC/RBC_RAWDATA/bidsdatasets/H...</td>\n",
       "    </tr>\n",
       "    <tr>\n",
       "      <th>1</th>\n",
       "      <td>/cbica/projects/RBC/RBC_RAWDATA/bidsdatasets/H...</td>\n",
       "    </tr>\n",
       "    <tr>\n",
       "      <th>2</th>\n",
       "      <td>/cbica/projects/RBC/RBC_RAWDATA/bidsdatasets/H...</td>\n",
       "    </tr>\n",
       "    <tr>\n",
       "      <th>3</th>\n",
       "      <td>/cbica/projects/RBC/RBC_RAWDATA/bidsdatasets/H...</td>\n",
       "    </tr>\n",
       "    <tr>\n",
       "      <th>4</th>\n",
       "      <td>/cbica/projects/RBC/RBC_RAWDATA/bidsdatasets/H...</td>\n",
       "    </tr>\n",
       "    <tr>\n",
       "      <th>...</th>\n",
       "      <td>...</td>\n",
       "    </tr>\n",
       "    <tr>\n",
       "      <th>2709</th>\n",
       "      <td>/cbica/projects/RBC/RBC_RAWDATA/bidsdatasets/H...</td>\n",
       "    </tr>\n",
       "    <tr>\n",
       "      <th>2710</th>\n",
       "      <td>/cbica/projects/RBC/RBC_RAWDATA/bidsdatasets/H...</td>\n",
       "    </tr>\n",
       "    <tr>\n",
       "      <th>2711</th>\n",
       "      <td>/cbica/projects/RBC/RBC_RAWDATA/bidsdatasets/H...</td>\n",
       "    </tr>\n",
       "    <tr>\n",
       "      <th>2712</th>\n",
       "      <td>/cbica/projects/RBC/RBC_RAWDATA/bidsdatasets/H...</td>\n",
       "    </tr>\n",
       "    <tr>\n",
       "      <th>2713</th>\n",
       "      <td>/cbica/projects/RBC/RBC_RAWDATA/bidsdatasets/H...</td>\n",
       "    </tr>\n",
       "  </tbody>\n",
       "</table>\n",
       "<p>2714 rows × 1 columns</p>\n",
       "</div>"
      ],
      "text/plain": [
       "                                                 source\n",
       "0     /cbica/projects/RBC/RBC_RAWDATA/bidsdatasets/H...\n",
       "1     /cbica/projects/RBC/RBC_RAWDATA/bidsdatasets/H...\n",
       "2     /cbica/projects/RBC/RBC_RAWDATA/bidsdatasets/H...\n",
       "3     /cbica/projects/RBC/RBC_RAWDATA/bidsdatasets/H...\n",
       "4     /cbica/projects/RBC/RBC_RAWDATA/bidsdatasets/H...\n",
       "...                                                 ...\n",
       "2709  /cbica/projects/RBC/RBC_RAWDATA/bidsdatasets/H...\n",
       "2710  /cbica/projects/RBC/RBC_RAWDATA/bidsdatasets/H...\n",
       "2711  /cbica/projects/RBC/RBC_RAWDATA/bidsdatasets/H...\n",
       "2712  /cbica/projects/RBC/RBC_RAWDATA/bidsdatasets/H...\n",
       "2713  /cbica/projects/RBC/RBC_RAWDATA/bidsdatasets/H...\n",
       "\n",
       "[2714 rows x 1 columns]"
      ]
     },
     "execution_count": 9,
     "metadata": {},
     "output_type": "execute_result"
    }
   ],
   "source": [
    "df"
   ]
  },
  {
   "cell_type": "code",
   "execution_count": 52,
   "id": "novel-confidentiality",
   "metadata": {},
   "outputs": [],
   "source": [
    "df['session'] = df.apply(lambda row: parse_slashes(row['source'], 8), axis=1)\n",
    "df['subject'] = df.apply(lambda row: parse_slashes(row['source'], 7), axis=1)\n",
    "df['folder'] = df.apply(lambda row: parse_slashes(row['source'], 9), axis=1)"
   ]
  },
  {
   "cell_type": "code",
   "execution_count": 53,
   "id": "fiscal-watts",
   "metadata": {},
   "outputs": [
    {
     "data": {
      "text/html": [
       "<div>\n",
       "<style scoped>\n",
       "    .dataframe tbody tr th:only-of-type {\n",
       "        vertical-align: middle;\n",
       "    }\n",
       "\n",
       "    .dataframe tbody tr th {\n",
       "        vertical-align: top;\n",
       "    }\n",
       "\n",
       "    .dataframe thead th {\n",
       "        text-align: right;\n",
       "    }\n",
       "</style>\n",
       "<table border=\"1\" class=\"dataframe\">\n",
       "  <thead>\n",
       "    <tr style=\"text-align: right;\">\n",
       "      <th></th>\n",
       "      <th>source</th>\n",
       "      <th>session</th>\n",
       "      <th>folder</th>\n",
       "      <th>run</th>\n",
       "      <th>entity</th>\n",
       "      <th>task</th>\n",
       "      <th>subject</th>\n",
       "    </tr>\n",
       "  </thead>\n",
       "  <tbody>\n",
       "    <tr>\n",
       "      <th>0</th>\n",
       "      <td>/cbica/projects/RBC/RBC_RAWDATA/bidsdatasets/H...</td>\n",
       "      <td>ses-1</td>\n",
       "      <td>anat</td>\n",
       "      <td>run-1</td>\n",
       "      <td>T1w</td>\n",
       "      <td>None</td>\n",
       "      <td>sub-10703</td>\n",
       "    </tr>\n",
       "    <tr>\n",
       "      <th>1</th>\n",
       "      <td>/cbica/projects/RBC/RBC_RAWDATA/bidsdatasets/H...</td>\n",
       "      <td>ses-1</td>\n",
       "      <td>func</td>\n",
       "      <td>run-1</td>\n",
       "      <td>bold</td>\n",
       "      <td>rest</td>\n",
       "      <td>sub-10703</td>\n",
       "    </tr>\n",
       "    <tr>\n",
       "      <th>2</th>\n",
       "      <td>/cbica/projects/RBC/RBC_RAWDATA/bidsdatasets/H...</td>\n",
       "      <td>ses-1</td>\n",
       "      <td>dwi</td>\n",
       "      <td>run-1</td>\n",
       "      <td>dwi</td>\n",
       "      <td>None</td>\n",
       "      <td>sub-10703</td>\n",
       "    </tr>\n",
       "    <tr>\n",
       "      <th>3</th>\n",
       "      <td>/cbica/projects/RBC/RBC_RAWDATA/bidsdatasets/H...</td>\n",
       "      <td>ses-2</td>\n",
       "      <td>anat</td>\n",
       "      <td>run-1</td>\n",
       "      <td>T1w</td>\n",
       "      <td>None</td>\n",
       "      <td>sub-10703</td>\n",
       "    </tr>\n",
       "    <tr>\n",
       "      <th>4</th>\n",
       "      <td>/cbica/projects/RBC/RBC_RAWDATA/bidsdatasets/H...</td>\n",
       "      <td>ses-2</td>\n",
       "      <td>func</td>\n",
       "      <td>run-1</td>\n",
       "      <td>bold</td>\n",
       "      <td>rest</td>\n",
       "      <td>sub-10703</td>\n",
       "    </tr>\n",
       "    <tr>\n",
       "      <th>...</th>\n",
       "      <td>...</td>\n",
       "      <td>...</td>\n",
       "      <td>...</td>\n",
       "      <td>...</td>\n",
       "      <td>...</td>\n",
       "      <td>...</td>\n",
       "      <td>...</td>\n",
       "    </tr>\n",
       "    <tr>\n",
       "      <th>2709</th>\n",
       "      <td>/cbica/projects/RBC/RBC_RAWDATA/bidsdatasets/H...</td>\n",
       "      <td>ses-1</td>\n",
       "      <td>func</td>\n",
       "      <td>run-1</td>\n",
       "      <td>bold</td>\n",
       "      <td>rest</td>\n",
       "      <td>sub-20082</td>\n",
       "    </tr>\n",
       "    <tr>\n",
       "      <th>2710</th>\n",
       "      <td>/cbica/projects/RBC/RBC_RAWDATA/bidsdatasets/H...</td>\n",
       "      <td>ses-1</td>\n",
       "      <td>dwi</td>\n",
       "      <td>run-1</td>\n",
       "      <td>dwi</td>\n",
       "      <td>None</td>\n",
       "      <td>sub-20082</td>\n",
       "    </tr>\n",
       "    <tr>\n",
       "      <th>2711</th>\n",
       "      <td>/cbica/projects/RBC/RBC_RAWDATA/bidsdatasets/H...</td>\n",
       "      <td>ses-2</td>\n",
       "      <td>anat</td>\n",
       "      <td>run-1</td>\n",
       "      <td>T1w</td>\n",
       "      <td>None</td>\n",
       "      <td>sub-20082</td>\n",
       "    </tr>\n",
       "    <tr>\n",
       "      <th>2712</th>\n",
       "      <td>/cbica/projects/RBC/RBC_RAWDATA/bidsdatasets/H...</td>\n",
       "      <td>ses-2</td>\n",
       "      <td>func</td>\n",
       "      <td>run-1</td>\n",
       "      <td>bold</td>\n",
       "      <td>rest</td>\n",
       "      <td>sub-20082</td>\n",
       "    </tr>\n",
       "    <tr>\n",
       "      <th>2713</th>\n",
       "      <td>/cbica/projects/RBC/RBC_RAWDATA/bidsdatasets/H...</td>\n",
       "      <td>ses-2</td>\n",
       "      <td>dwi</td>\n",
       "      <td>run-1</td>\n",
       "      <td>dwi</td>\n",
       "      <td>None</td>\n",
       "      <td>sub-20082</td>\n",
       "    </tr>\n",
       "  </tbody>\n",
       "</table>\n",
       "<p>2714 rows × 7 columns</p>\n",
       "</div>"
      ],
      "text/plain": [
       "                                                 source session folder    run  \\\n",
       "0     /cbica/projects/RBC/RBC_RAWDATA/bidsdatasets/H...   ses-1   anat  run-1   \n",
       "1     /cbica/projects/RBC/RBC_RAWDATA/bidsdatasets/H...   ses-1   func  run-1   \n",
       "2     /cbica/projects/RBC/RBC_RAWDATA/bidsdatasets/H...   ses-1    dwi  run-1   \n",
       "3     /cbica/projects/RBC/RBC_RAWDATA/bidsdatasets/H...   ses-2   anat  run-1   \n",
       "4     /cbica/projects/RBC/RBC_RAWDATA/bidsdatasets/H...   ses-2   func  run-1   \n",
       "...                                                 ...     ...    ...    ...   \n",
       "2709  /cbica/projects/RBC/RBC_RAWDATA/bidsdatasets/H...   ses-1   func  run-1   \n",
       "2710  /cbica/projects/RBC/RBC_RAWDATA/bidsdatasets/H...   ses-1    dwi  run-1   \n",
       "2711  /cbica/projects/RBC/RBC_RAWDATA/bidsdatasets/H...   ses-2   anat  run-1   \n",
       "2712  /cbica/projects/RBC/RBC_RAWDATA/bidsdatasets/H...   ses-2   func  run-1   \n",
       "2713  /cbica/projects/RBC/RBC_RAWDATA/bidsdatasets/H...   ses-2    dwi  run-1   \n",
       "\n",
       "     entity  task    subject  \n",
       "0       T1w  None  sub-10703  \n",
       "1      bold  rest  sub-10703  \n",
       "2       dwi  None  sub-10703  \n",
       "3       T1w  None  sub-10703  \n",
       "4      bold  rest  sub-10703  \n",
       "...     ...   ...        ...  \n",
       "2709   bold  rest  sub-20082  \n",
       "2710    dwi  None  sub-20082  \n",
       "2711    T1w  None  sub-20082  \n",
       "2712   bold  rest  sub-20082  \n",
       "2713    dwi  None  sub-20082  \n",
       "\n",
       "[2714 rows x 7 columns]"
      ]
     },
     "execution_count": 53,
     "metadata": {},
     "output_type": "execute_result"
    }
   ],
   "source": [
    "df"
   ]
  },
  {
   "cell_type": "code",
   "execution_count": 12,
   "id": "revolutionary-purchase",
   "metadata": {},
   "outputs": [],
   "source": [
    "def parse_run(source):\n",
    "    \n",
    "    run_index = source.index('run')\n",
    "    if run_index:\n",
    "        run_end = run_index + 5\n",
    "        return source[run_index:run_end]\n",
    "    else:\n",
    "        return None"
   ]
  },
  {
   "cell_type": "code",
   "execution_count": 13,
   "id": "automatic-subscriber",
   "metadata": {},
   "outputs": [
    {
     "data": {
      "text/plain": [
       "'run-1'"
      ]
     },
     "execution_count": 13,
     "metadata": {},
     "output_type": "execute_result"
    }
   ],
   "source": [
    "parse_run('/cbica/projects/RBC/RBC_RAWDATA/bidsdatasets/HRC/sub-10703/ses-1/anat/sub-10703_ses-1_rec-refaced_run-1_T1w.nii.gz')"
   ]
  },
  {
   "cell_type": "code",
   "execution_count": 14,
   "id": "central-distributor",
   "metadata": {},
   "outputs": [],
   "source": [
    "df['run'] = df.apply(lambda row: parse_run(row['source']), axis=1)"
   ]
  },
  {
   "cell_type": "code",
   "execution_count": 33,
   "id": "consistent-employment",
   "metadata": {},
   "outputs": [],
   "source": [
    "def parse_entity(source):\n",
    "    \n",
    "    entity_end = source.index('.nii')\n",
    "    entity_start = entity_end\n",
    "    underscore = False\n",
    "    \n",
    "    while not underscore:\n",
    "        \n",
    "        if source[entity_start] == '_':\n",
    "            break\n",
    "        else:\n",
    "            entity_start -= 1\n",
    "\n",
    "    if entity_start <= entity_end:\n",
    "        return source[entity_start+1:entity_end]\n",
    "    else:\n",
    "        return None"
   ]
  },
  {
   "cell_type": "code",
   "execution_count": 34,
   "id": "lyric-spirituality",
   "metadata": {},
   "outputs": [
    {
     "data": {
      "text/plain": [
       "'bold'"
      ]
     },
     "execution_count": 34,
     "metadata": {},
     "output_type": "execute_result"
    }
   ],
   "source": [
    "parse_entity('/cbica/projects/RBC/RBC_RAWDATA/bidsdatasets/HRC/sub-20294/ses-1/func/sub-20294_ses-1_task-rest_run-1_bold.nii.gz')"
   ]
  },
  {
   "cell_type": "code",
   "execution_count": 35,
   "id": "complicated-portable",
   "metadata": {},
   "outputs": [],
   "source": [
    "df['entity'] = df.apply(lambda row: parse_entity(row['source']), axis=1)"
   ]
  },
  {
   "cell_type": "code",
   "execution_count": 45,
   "id": "standing-curve",
   "metadata": {},
   "outputs": [],
   "source": [
    "def parse_task(source):\n",
    "    \n",
    "    try:\n",
    "        task_start = source.index('task')\n",
    "        task_end = task_start\n",
    "        underscore = False\n",
    "    \n",
    "        while not underscore:\n",
    "\n",
    "            if source[task_end] == '_':\n",
    "                break\n",
    "            else:\n",
    "                task_end += 1\n",
    "\n",
    "        if task_start <= task_end:\n",
    "            return source[task_start+5:task_end]\n",
    "        else:\n",
    "            return None\n",
    "    except:\n",
    "        return None"
   ]
  },
  {
   "cell_type": "code",
   "execution_count": 46,
   "id": "weird-benchmark",
   "metadata": {},
   "outputs": [
    {
     "data": {
      "text/plain": [
       "'rest'"
      ]
     },
     "execution_count": 46,
     "metadata": {},
     "output_type": "execute_result"
    }
   ],
   "source": [
    "parse_task('/cbica/projects/RBC/RBC_RAWDATA/bidsdatasets/HRC/sub-20294/ses-1/func/sub-20294_ses-1_task-rest_run-1_bold.nii.gz')"
   ]
  },
  {
   "cell_type": "code",
   "execution_count": 47,
   "id": "featured-richards",
   "metadata": {},
   "outputs": [],
   "source": [
    "parse_task('/cbica/projects/RBC/RBC_RAWDATA/bidsdatasets/HRC/sub-20294/ses-1/dwi/sub-20294_ses-1_run-1_dwi.nii.gz')"
   ]
  },
  {
   "cell_type": "code",
   "execution_count": 48,
   "id": "sixth-award",
   "metadata": {},
   "outputs": [],
   "source": [
    "df['task'] = df.apply(lambda row: parse_task(row['source']), axis=1)"
   ]
  },
  {
   "cell_type": "code",
   "execution_count": 49,
   "id": "owned-pontiac",
   "metadata": {},
   "outputs": [
    {
     "data": {
      "text/plain": [
       "{'run-1', 'run-2', 'run-3'}"
      ]
     },
     "execution_count": 49,
     "metadata": {},
     "output_type": "execute_result"
    }
   ],
   "source": [
    "set(df['run'].values.tolist())"
   ]
  },
  {
   "cell_type": "code",
   "execution_count": 55,
   "id": "iraqi-intervention",
   "metadata": {},
   "outputs": [
    {
     "data": {
      "application/vnd.jupyter.widget-view+json": {
       "model_id": "660e85129432441d96f74ce70999bf13",
       "version_major": 2,
       "version_minor": 0
      },
      "text/plain": [
       "QgridWidget(grid_options={'fullWidthRows': True, 'syncColumnCellResize': True, 'forceFitColumns': True, 'defau…"
      ]
     },
     "metadata": {},
     "output_type": "display_data"
    }
   ],
   "source": [
    "import qgrid\n",
    "qgrid_widget = qgrid.show_grid(df, show_toolbar=True)\n",
    "qgrid_widget"
   ]
  },
  {
   "cell_type": "code",
   "execution_count": 56,
   "id": "collectible-surge",
   "metadata": {},
   "outputs": [],
   "source": [
    "df.to_csv('hrc_entities.csv', index=False)"
   ]
  },
  {
   "cell_type": "code",
   "execution_count": null,
   "id": "forced-browse",
   "metadata": {},
   "outputs": [],
   "source": []
  }
 ],
 "metadata": {
  "kernelspec": {
   "display_name": "Python 3",
   "language": "python",
   "name": "python3"
  },
  "language_info": {
   "codemirror_mode": {
    "name": "ipython",
    "version": 3
   },
   "file_extension": ".py",
   "mimetype": "text/x-python",
   "name": "python",
   "nbconvert_exporter": "python",
   "pygments_lexer": "ipython3",
   "version": "3.7.8"
  }
 },
 "nbformat": 4,
 "nbformat_minor": 5
}

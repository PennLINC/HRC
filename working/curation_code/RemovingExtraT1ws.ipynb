{
 "cells": [
  {
   "cell_type": "markdown",
   "id": "suitable-hartford",
   "metadata": {},
   "source": [
    "# Duplicate T1w Images\n",
    "\n",
    "Here we come up with a strategy for removing duplicate T1w images."
   ]
  },
  {
   "cell_type": "code",
   "execution_count": 1,
   "id": "specified-strike",
   "metadata": {},
   "outputs": [
    {
     "name": "stderr",
     "output_type": "stream",
     "text": [
      "/cbica/projects/RBC/miniconda3/envs/bond/lib/python3.7/site-packages/bids/layout/models.py:152: FutureWarning: The 'extension' entity currently excludes the leading dot ('.'). As of version 0.14.0, it will include the leading dot. To suppress this warning and include the leading dot, use `bids.config.set_option('extension_initial_dot', True)`.\n",
      "  FutureWarning)\n"
     ]
    }
   ],
   "source": [
    "from bids import BIDSLayout\n",
    "\n",
    "layout = BIDSLayout('/cbica/projects/RBC/HRC/working/BIDS', validate=False)"
   ]
  },
  {
   "cell_type": "code",
   "execution_count": 2,
   "id": "atomic-murray",
   "metadata": {},
   "outputs": [
    {
     "data": {
      "text/plain": [
       "BIDS Layout: .../projects/RBC/HRC/working/BIDS | Subjects: 608 | Sessions: 905 | Runs: 751"
      ]
     },
     "execution_count": 2,
     "metadata": {},
     "output_type": "execute_result"
    }
   ],
   "source": [
    "layout"
   ]
  },
  {
   "cell_type": "markdown",
   "id": "wound-magazine",
   "metadata": {},
   "source": [
    "Let's figure out how to track T1s."
   ]
  },
  {
   "cell_type": "code",
   "execution_count": 3,
   "id": "multiple-kruger",
   "metadata": {},
   "outputs": [],
   "source": [
    "df = layout.to_df()"
   ]
  },
  {
   "cell_type": "code",
   "execution_count": 7,
   "id": "sound-india",
   "metadata": {},
   "outputs": [
    {
     "data": {
      "text/html": [
       "<div>\n",
       "<style scoped>\n",
       "    .dataframe tbody tr th:only-of-type {\n",
       "        vertical-align: middle;\n",
       "    }\n",
       "\n",
       "    .dataframe tbody tr th {\n",
       "        vertical-align: top;\n",
       "    }\n",
       "\n",
       "    .dataframe thead th {\n",
       "        text-align: right;\n",
       "    }\n",
       "</style>\n",
       "<table border=\"1\" class=\"dataframe\">\n",
       "  <thead>\n",
       "    <tr style=\"text-align: right;\">\n",
       "      <th>entity</th>\n",
       "      <th>path</th>\n",
       "      <th>datatype</th>\n",
       "      <th>extension</th>\n",
       "      <th>reconstruction</th>\n",
       "      <th>run</th>\n",
       "      <th>session</th>\n",
       "      <th>subject</th>\n",
       "      <th>suffix</th>\n",
       "      <th>task</th>\n",
       "    </tr>\n",
       "  </thead>\n",
       "  <tbody>\n",
       "    <tr>\n",
       "      <th>0</th>\n",
       "      <td>/cbica/projects/RBC/HRC/working/BIDS/dataset_d...</td>\n",
       "      <td>NaN</td>\n",
       "      <td>json</td>\n",
       "      <td>NaN</td>\n",
       "      <td>NaN</td>\n",
       "      <td>NaN</td>\n",
       "      <td>NaN</td>\n",
       "      <td>description</td>\n",
       "      <td>NaN</td>\n",
       "    </tr>\n",
       "    <tr>\n",
       "      <th>1</th>\n",
       "      <td>/cbica/projects/RBC/HRC/working/BIDS/sub-10001...</td>\n",
       "      <td>anat</td>\n",
       "      <td>json</td>\n",
       "      <td>refaced</td>\n",
       "      <td>1</td>\n",
       "      <td>1</td>\n",
       "      <td>10001</td>\n",
       "      <td>T1w</td>\n",
       "      <td>NaN</td>\n",
       "    </tr>\n",
       "    <tr>\n",
       "      <th>2</th>\n",
       "      <td>/cbica/projects/RBC/HRC/working/BIDS/sub-10001...</td>\n",
       "      <td>anat</td>\n",
       "      <td>nii.gz</td>\n",
       "      <td>refaced</td>\n",
       "      <td>1</td>\n",
       "      <td>1</td>\n",
       "      <td>10001</td>\n",
       "      <td>T1w</td>\n",
       "      <td>NaN</td>\n",
       "    </tr>\n",
       "    <tr>\n",
       "      <th>3</th>\n",
       "      <td>/cbica/projects/RBC/HRC/working/BIDS/sub-10001...</td>\n",
       "      <td>dwi</td>\n",
       "      <td>bval</td>\n",
       "      <td>NaN</td>\n",
       "      <td>1</td>\n",
       "      <td>1</td>\n",
       "      <td>10001</td>\n",
       "      <td>dwi</td>\n",
       "      <td>NaN</td>\n",
       "    </tr>\n",
       "    <tr>\n",
       "      <th>4</th>\n",
       "      <td>/cbica/projects/RBC/HRC/working/BIDS/sub-10001...</td>\n",
       "      <td>dwi</td>\n",
       "      <td>bvec</td>\n",
       "      <td>NaN</td>\n",
       "      <td>1</td>\n",
       "      <td>1</td>\n",
       "      <td>10001</td>\n",
       "      <td>dwi</td>\n",
       "      <td>NaN</td>\n",
       "    </tr>\n",
       "  </tbody>\n",
       "</table>\n",
       "</div>"
      ],
      "text/plain": [
       "entity                                               path datatype extension  \\\n",
       "0       /cbica/projects/RBC/HRC/working/BIDS/dataset_d...      NaN      json   \n",
       "1       /cbica/projects/RBC/HRC/working/BIDS/sub-10001...     anat      json   \n",
       "2       /cbica/projects/RBC/HRC/working/BIDS/sub-10001...     anat    nii.gz   \n",
       "3       /cbica/projects/RBC/HRC/working/BIDS/sub-10001...      dwi      bval   \n",
       "4       /cbica/projects/RBC/HRC/working/BIDS/sub-10001...      dwi      bvec   \n",
       "\n",
       "entity reconstruction  run session subject       suffix task  \n",
       "0                 NaN  NaN     NaN     NaN  description  NaN  \n",
       "1             refaced    1       1   10001          T1w  NaN  \n",
       "2             refaced    1       1   10001          T1w  NaN  \n",
       "3                 NaN    1       1   10001          dwi  NaN  \n",
       "4                 NaN    1       1   10001          dwi  NaN  "
      ]
     },
     "execution_count": 7,
     "metadata": {},
     "output_type": "execute_result"
    }
   ],
   "source": [
    "df.head()"
   ]
  },
  {
   "cell_type": "code",
   "execution_count": 8,
   "id": "ultimate-atlas",
   "metadata": {},
   "outputs": [],
   "source": [
    "df_filtered = df[['path', 'extension', 'suffix', 'run', 'subject', 'session']].query('suffix == \"T1w\" & extension == \"nii.gz\"').drop('extension', axis=1)\n",
    "grp = df_filtered.groupby(['subject', 'session'])\n",
    "grp_sorted = grp.apply(lambda x: x.sort_values([\"run\"], ascending = False))"
   ]
  },
  {
   "cell_type": "markdown",
   "id": "gross-house",
   "metadata": {},
   "source": [
    "If we arrange these by run:"
   ]
  },
  {
   "cell_type": "code",
   "execution_count": 10,
   "id": "capital-usage",
   "metadata": {},
   "outputs": [
    {
     "data": {
      "text/html": [
       "<div>\n",
       "<style scoped>\n",
       "    .dataframe tbody tr th:only-of-type {\n",
       "        vertical-align: middle;\n",
       "    }\n",
       "\n",
       "    .dataframe tbody tr th {\n",
       "        vertical-align: top;\n",
       "    }\n",
       "\n",
       "    .dataframe thead th {\n",
       "        text-align: right;\n",
       "    }\n",
       "</style>\n",
       "<table border=\"1\" class=\"dataframe\">\n",
       "  <thead>\n",
       "    <tr style=\"text-align: right;\">\n",
       "      <th></th>\n",
       "      <th></th>\n",
       "      <th>entity</th>\n",
       "      <th>path</th>\n",
       "      <th>suffix</th>\n",
       "      <th>run</th>\n",
       "      <th>subject</th>\n",
       "      <th>session</th>\n",
       "    </tr>\n",
       "    <tr>\n",
       "      <th>subject</th>\n",
       "      <th>session</th>\n",
       "      <th></th>\n",
       "      <th></th>\n",
       "      <th></th>\n",
       "      <th></th>\n",
       "      <th></th>\n",
       "      <th></th>\n",
       "    </tr>\n",
       "  </thead>\n",
       "  <tbody>\n",
       "    <tr>\n",
       "      <th rowspan=\"2\" valign=\"top\">10001</th>\n",
       "      <th>1</th>\n",
       "      <th>2</th>\n",
       "      <td>/cbica/projects/RBC/HRC/working/BIDS/sub-10001...</td>\n",
       "      <td>T1w</td>\n",
       "      <td>1</td>\n",
       "      <td>10001</td>\n",
       "      <td>1</td>\n",
       "    </tr>\n",
       "    <tr>\n",
       "      <th>2</th>\n",
       "      <th>10</th>\n",
       "      <td>/cbica/projects/RBC/HRC/working/BIDS/sub-10001...</td>\n",
       "      <td>T1w</td>\n",
       "      <td>1</td>\n",
       "      <td>10001</td>\n",
       "      <td>2</td>\n",
       "    </tr>\n",
       "    <tr>\n",
       "      <th>10612</th>\n",
       "      <th>1</th>\n",
       "      <th>18</th>\n",
       "      <td>/cbica/projects/RBC/HRC/working/BIDS/sub-10612...</td>\n",
       "      <td>T1w</td>\n",
       "      <td>1</td>\n",
       "      <td>10612</td>\n",
       "      <td>1</td>\n",
       "    </tr>\n",
       "    <tr>\n",
       "      <th rowspan=\"2\" valign=\"top\">10615</th>\n",
       "      <th>1</th>\n",
       "      <th>26</th>\n",
       "      <td>/cbica/projects/RBC/HRC/working/BIDS/sub-10615...</td>\n",
       "      <td>T1w</td>\n",
       "      <td>1</td>\n",
       "      <td>10615</td>\n",
       "      <td>1</td>\n",
       "    </tr>\n",
       "    <tr>\n",
       "      <th>2</th>\n",
       "      <th>34</th>\n",
       "      <td>/cbica/projects/RBC/HRC/working/BIDS/sub-10615...</td>\n",
       "      <td>T1w</td>\n",
       "      <td>1</td>\n",
       "      <td>10615</td>\n",
       "      <td>2</td>\n",
       "    </tr>\n",
       "  </tbody>\n",
       "</table>\n",
       "</div>"
      ],
      "text/plain": [
       "entity                                                           path suffix  \\\n",
       "subject session                                                                \n",
       "10001   1       2   /cbica/projects/RBC/HRC/working/BIDS/sub-10001...    T1w   \n",
       "        2       10  /cbica/projects/RBC/HRC/working/BIDS/sub-10001...    T1w   \n",
       "10612   1       18  /cbica/projects/RBC/HRC/working/BIDS/sub-10612...    T1w   \n",
       "10615   1       26  /cbica/projects/RBC/HRC/working/BIDS/sub-10615...    T1w   \n",
       "        2       34  /cbica/projects/RBC/HRC/working/BIDS/sub-10615...    T1w   \n",
       "\n",
       "entity             run subject session  \n",
       "subject session                         \n",
       "10001   1       2    1   10001       1  \n",
       "        2       10   1   10001       2  \n",
       "10612   1       18   1   10612       1  \n",
       "10615   1       26   1   10615       1  \n",
       "        2       34   1   10615       2  "
      ]
     },
     "execution_count": 10,
     "metadata": {},
     "output_type": "execute_result"
    }
   ],
   "source": [
    "grp_sorted.head()"
   ]
  },
  {
   "cell_type": "markdown",
   "id": "becoming-abuse",
   "metadata": {},
   "source": [
    "Now, we can check which subjects have more than one run of T1w:"
   ]
  },
  {
   "cell_type": "code",
   "execution_count": 11,
   "id": "tired-glory",
   "metadata": {},
   "outputs": [
    {
     "data": {
      "application/vnd.jupyter.widget-view+json": {
       "model_id": "7ab8e93413824d07b2f1d5600c14717a",
       "version_major": 2,
       "version_minor": 0
      },
      "text/plain": [
       "QgridWidget(grid_options={'fullWidthRows': True, 'syncColumnCellResize': True, 'forceFitColumns': True, 'defau…"
      ]
     },
     "metadata": {},
     "output_type": "display_data"
    }
   ],
   "source": [
    "import qgrid\n",
    "\n",
    "qgrid_widget = qgrid.show_grid(df_filtered, show_toolbar=True)\n",
    "qgrid_widget"
   ]
  },
  {
   "cell_type": "code",
   "execution_count": 12,
   "id": "massive-photograph",
   "metadata": {},
   "outputs": [
    {
     "data": {
      "application/vnd.jupyter.widget-view+json": {
       "model_id": "4a949ab646ea4920bf2daeb7e82e37eb",
       "version_major": 2,
       "version_minor": 0
      },
      "text/plain": [
       "QgridWidget(grid_options={'fullWidthRows': True, 'syncColumnCellResize': True, 'forceFitColumns': True, 'defau…"
      ]
     },
     "metadata": {},
     "output_type": "display_data"
    }
   ],
   "source": [
    "df2 = df_filtered.copy()\n",
    "\n",
    "df2['cs'] = df_filtered.groupby(['subject', 'session']).cumcount()+1\n",
    "\n",
    "qgrid_widget = qgrid.show_grid(df2, show_toolbar=True)\n",
    "qgrid_widget"
   ]
  },
  {
   "cell_type": "code",
   "execution_count": 13,
   "id": "silent-continent",
   "metadata": {},
   "outputs": [],
   "source": [
    "keeps = df2.groupby(['subject', 'session']).tail(1)"
   ]
  },
  {
   "cell_type": "code",
   "execution_count": 14,
   "id": "infrared-cylinder",
   "metadata": {},
   "outputs": [
    {
     "data": {
      "application/vnd.jupyter.widget-view+json": {
       "model_id": "3ddd9952f0ad486db90249d6895314c0",
       "version_major": 2,
       "version_minor": 0
      },
      "text/plain": [
       "QgridWidget(grid_options={'fullWidthRows': True, 'syncColumnCellResize': True, 'forceFitColumns': True, 'defau…"
      ]
     },
     "metadata": {},
     "output_type": "display_data"
    }
   ],
   "source": [
    "qgrid_widget = qgrid.show_grid(keeps, show_toolbar=True)\n",
    "qgrid_widget"
   ]
  },
  {
   "cell_type": "markdown",
   "id": "looking-accuracy",
   "metadata": {},
   "source": [
    "Let's write this out to file just incase:"
   ]
  },
  {
   "cell_type": "code",
   "execution_count": 15,
   "id": "dental-fetish",
   "metadata": {},
   "outputs": [],
   "source": [
    "keeps.to_csv('t1s_to_keep.csv', index=False)"
   ]
  },
  {
   "cell_type": "markdown",
   "id": "nutritional-grenada",
   "metadata": {},
   "source": [
    "And now we just get the list of T1s that we don't want against this list"
   ]
  },
  {
   "cell_type": "code",
   "execution_count": 35,
   "id": "bibliographic-milwaukee",
   "metadata": {},
   "outputs": [],
   "source": [
    "removes = df2.iloc[~df2.index.isin(list(keeps.index)),:]"
   ]
  },
  {
   "cell_type": "code",
   "execution_count": 36,
   "id": "turkish-shower",
   "metadata": {},
   "outputs": [
    {
     "data": {
      "text/plain": [
       "(116, 6)"
      ]
     },
     "execution_count": 36,
     "metadata": {},
     "output_type": "execute_result"
    }
   ],
   "source": [
    "removes.shape"
   ]
  },
  {
   "cell_type": "code",
   "execution_count": 38,
   "id": "eastern-laser",
   "metadata": {},
   "outputs": [
    {
     "data": {
      "application/vnd.jupyter.widget-view+json": {
       "model_id": "3d895c020c6b47a4a03c4c14bc485723",
       "version_major": 2,
       "version_minor": 0
      },
      "text/plain": [
       "QgridWidget(grid_options={'fullWidthRows': True, 'syncColumnCellResize': True, 'forceFitColumns': True, 'defau…"
      ]
     },
     "metadata": {},
     "output_type": "display_data"
    }
   ],
   "source": [
    "qgrid_widget = qgrid.show_grid(removes, show_toolbar=True)\n",
    "qgrid_widget"
   ]
  },
  {
   "cell_type": "markdown",
   "id": "bigger-service",
   "metadata": {},
   "source": [
    "Now we need to gather these files and their jsons:"
   ]
  },
  {
   "cell_type": "code",
   "execution_count": 41,
   "id": "isolated-sponsorship",
   "metadata": {},
   "outputs": [],
   "source": [
    "niftis_to_remove = list(removes['path'].values)"
   ]
  },
  {
   "cell_type": "code",
   "execution_count": 43,
   "id": "foster-poultry",
   "metadata": {},
   "outputs": [
    {
     "data": {
      "text/plain": [
       "['/cbica/projects/RBC/HRC/working/BIDS/sub-10618/ses-1/anat/sub-10618_ses-1_rec-refaced_run-1_T1w.nii.gz',\n",
       " '/cbica/projects/RBC/HRC/working/BIDS/sub-10618/ses-1/anat/sub-10618_ses-1_rec-refaced_run-2_T1w.nii.gz',\n",
       " '/cbica/projects/RBC/HRC/working/BIDS/sub-10618/ses-2/anat/sub-10618_ses-2_rec-refaced_run-1_T1w.nii.gz',\n",
       " '/cbica/projects/RBC/HRC/working/BIDS/sub-10620/ses-1/anat/sub-10620_ses-1_rec-refaced_run-1_T1w.nii.gz',\n",
       " '/cbica/projects/RBC/HRC/working/BIDS/sub-10634/ses-1/anat/sub-10634_ses-1_rec-refaced_run-1_T1w.nii.gz',\n",
       " '/cbica/projects/RBC/HRC/working/BIDS/sub-10646/ses-1/anat/sub-10646_ses-1_rec-refaced_run-1_T1w.nii.gz',\n",
       " '/cbica/projects/RBC/HRC/working/BIDS/sub-10648/ses-1/anat/sub-10648_ses-1_rec-refaced_run-1_T1w.nii.gz',\n",
       " '/cbica/projects/RBC/HRC/working/BIDS/sub-10648/ses-1/anat/sub-10648_ses-1_rec-refaced_run-2_T1w.nii.gz',\n",
       " '/cbica/projects/RBC/HRC/working/BIDS/sub-10650/ses-1/anat/sub-10650_ses-1_rec-refaced_run-1_T1w.nii.gz',\n",
       " '/cbica/projects/RBC/HRC/working/BIDS/sub-10654/ses-1/anat/sub-10654_ses-1_rec-refaced_run-1_T1w.nii.gz']"
      ]
     },
     "execution_count": 43,
     "metadata": {},
     "output_type": "execute_result"
    }
   ],
   "source": [
    "niftis_to_remove[:10]"
   ]
  },
  {
   "cell_type": "code",
   "execution_count": 45,
   "id": "dressed-matrix",
   "metadata": {},
   "outputs": [
    {
     "data": {
      "text/plain": [
       "['/cbica/projects/RBC/HRC/working/BIDS/sub-10618/ses-1/anat/sub-10618_ses-1_rec-refaced_run-1_T1w.json',\n",
       " '/cbica/projects/RBC/HRC/working/BIDS/sub-10618/ses-1/anat/sub-10618_ses-1_rec-refaced_run-2_T1w.json',\n",
       " '/cbica/projects/RBC/HRC/working/BIDS/sub-10618/ses-2/anat/sub-10618_ses-2_rec-refaced_run-1_T1w.json',\n",
       " '/cbica/projects/RBC/HRC/working/BIDS/sub-10620/ses-1/anat/sub-10620_ses-1_rec-refaced_run-1_T1w.json',\n",
       " '/cbica/projects/RBC/HRC/working/BIDS/sub-10634/ses-1/anat/sub-10634_ses-1_rec-refaced_run-1_T1w.json',\n",
       " '/cbica/projects/RBC/HRC/working/BIDS/sub-10646/ses-1/anat/sub-10646_ses-1_rec-refaced_run-1_T1w.json',\n",
       " '/cbica/projects/RBC/HRC/working/BIDS/sub-10648/ses-1/anat/sub-10648_ses-1_rec-refaced_run-1_T1w.json',\n",
       " '/cbica/projects/RBC/HRC/working/BIDS/sub-10648/ses-1/anat/sub-10648_ses-1_rec-refaced_run-2_T1w.json',\n",
       " '/cbica/projects/RBC/HRC/working/BIDS/sub-10650/ses-1/anat/sub-10650_ses-1_rec-refaced_run-1_T1w.json',\n",
       " '/cbica/projects/RBC/HRC/working/BIDS/sub-10654/ses-1/anat/sub-10654_ses-1_rec-refaced_run-1_T1w.json']"
      ]
     },
     "execution_count": 45,
     "metadata": {},
     "output_type": "execute_result"
    }
   ],
   "source": [
    "jsons_to_remove = [x.replace('.nii.gz', '.json') for x in niftis_to_remove]\n",
    "jsons_to_remove[:10]"
   ]
  },
  {
   "cell_type": "code",
   "execution_count": 51,
   "id": "hourly-german",
   "metadata": {},
   "outputs": [
    {
     "data": {
      "text/plain": [
       "[('/cbica/projects/RBC/HRC/working/BIDS/sub-10618/ses-1/anat/sub-10618_ses-1_rec-refaced_run-1_T1w.nii.gz',\n",
       "  '/cbica/projects/RBC/HRC/working/BIDS/sub-10618/ses-1/anat/sub-10618_ses-1_rec-refaced_run-1_T1w.json'),\n",
       " ('/cbica/projects/RBC/HRC/working/BIDS/sub-10618/ses-1/anat/sub-10618_ses-1_rec-refaced_run-2_T1w.nii.gz',\n",
       "  '/cbica/projects/RBC/HRC/working/BIDS/sub-10618/ses-1/anat/sub-10618_ses-1_rec-refaced_run-2_T1w.json'),\n",
       " ('/cbica/projects/RBC/HRC/working/BIDS/sub-10618/ses-2/anat/sub-10618_ses-2_rec-refaced_run-1_T1w.nii.gz',\n",
       "  '/cbica/projects/RBC/HRC/working/BIDS/sub-10618/ses-2/anat/sub-10618_ses-2_rec-refaced_run-1_T1w.json'),\n",
       " ('/cbica/projects/RBC/HRC/working/BIDS/sub-10620/ses-1/anat/sub-10620_ses-1_rec-refaced_run-1_T1w.nii.gz',\n",
       "  '/cbica/projects/RBC/HRC/working/BIDS/sub-10620/ses-1/anat/sub-10620_ses-1_rec-refaced_run-1_T1w.json'),\n",
       " ('/cbica/projects/RBC/HRC/working/BIDS/sub-10634/ses-1/anat/sub-10634_ses-1_rec-refaced_run-1_T1w.nii.gz',\n",
       "  '/cbica/projects/RBC/HRC/working/BIDS/sub-10634/ses-1/anat/sub-10634_ses-1_rec-refaced_run-1_T1w.json')]"
      ]
     },
     "execution_count": 51,
     "metadata": {},
     "output_type": "execute_result"
    }
   ],
   "source": [
    "files_to_remove = list(zip(niftis_to_remove, jsons_to_remove))\n",
    "files_to_remove[:5]"
   ]
  },
  {
   "cell_type": "code",
   "execution_count": 71,
   "id": "instructional-refrigerator",
   "metadata": {},
   "outputs": [
    {
     "data": {
      "text/plain": [
       "116"
      ]
     },
     "execution_count": 71,
     "metadata": {},
     "output_type": "execute_result"
    }
   ],
   "source": [
    "len(files_to_remove)"
   ]
  },
  {
   "cell_type": "markdown",
   "id": "bibliographic-scout",
   "metadata": {},
   "source": [
    "Now we remove:"
   ]
  },
  {
   "cell_type": "code",
   "execution_count": 55,
   "id": "solid-mitchell",
   "metadata": {},
   "outputs": [],
   "source": [
    "import os"
   ]
  },
  {
   "cell_type": "code",
   "execution_count": 57,
   "id": "vocational-melbourne",
   "metadata": {},
   "outputs": [],
   "source": [
    "for acq in files_to_remove:\n",
    "    \n",
    "    if all([os.path.exists(acq[0]), os.path.exists(acq[1])]):\n",
    "        \n",
    "        #print(\"os.remove({})\".format(acq[0]))\n",
    "        #print(\"os.remove({})\".format(acq[1]))\n",
    "        os.remove(acq[0])\n",
    "        os.remove(acq[1])\n",
    "    else:\n",
    "        print(\"Could not find files!\")\n",
    "        print(acq)"
   ]
  },
  {
   "cell_type": "markdown",
   "id": "amino-toyota",
   "metadata": {},
   "source": [
    "Now let's update the BIDS data:"
   ]
  },
  {
   "cell_type": "code",
   "execution_count": 58,
   "id": "raised-dollar",
   "metadata": {},
   "outputs": [
    {
     "name": "stderr",
     "output_type": "stream",
     "text": [
      "/cbica/projects/RBC/miniconda3/envs/bond/lib/python3.7/site-packages/bids/layout/models.py:152: FutureWarning: The 'extension' entity currently excludes the leading dot ('.'). As of version 0.14.0, it will include the leading dot. To suppress this warning and include the leading dot, use `bids.config.set_option('extension_initial_dot', True)`.\n",
      "  FutureWarning)\n"
     ]
    }
   ],
   "source": [
    "layout2 = BIDSLayout('/cbica/projects/RBC/HRC/working/BIDS', validate=False)\n",
    "\n",
    "df_updated = layout2.to_df()"
   ]
  },
  {
   "cell_type": "code",
   "execution_count": 69,
   "id": "steady-leave",
   "metadata": {},
   "outputs": [
    {
     "data": {
      "text/html": [
       "<div>\n",
       "<style scoped>\n",
       "    .dataframe tbody tr th:only-of-type {\n",
       "        vertical-align: middle;\n",
       "    }\n",
       "\n",
       "    .dataframe tbody tr th {\n",
       "        vertical-align: top;\n",
       "    }\n",
       "\n",
       "    .dataframe thead th {\n",
       "        text-align: right;\n",
       "    }\n",
       "</style>\n",
       "<table border=\"1\" class=\"dataframe\">\n",
       "  <thead>\n",
       "    <tr style=\"text-align: right;\">\n",
       "      <th>entity</th>\n",
       "      <th>path</th>\n",
       "      <th>datatype</th>\n",
       "      <th>extension</th>\n",
       "      <th>reconstruction</th>\n",
       "      <th>run</th>\n",
       "      <th>session</th>\n",
       "      <th>subject</th>\n",
       "      <th>suffix</th>\n",
       "      <th>task</th>\n",
       "    </tr>\n",
       "  </thead>\n",
       "  <tbody>\n",
       "    <tr>\n",
       "      <th>49</th>\n",
       "      <td>/cbica/projects/RBC/HRC/working/BIDS/sub-10618...</td>\n",
       "      <td>anat</td>\n",
       "      <td>json</td>\n",
       "      <td>refaced</td>\n",
       "      <td>3</td>\n",
       "      <td>1</td>\n",
       "      <td>10618</td>\n",
       "      <td>T1w</td>\n",
       "      <td>NaN</td>\n",
       "    </tr>\n",
       "    <tr>\n",
       "      <th>50</th>\n",
       "      <td>/cbica/projects/RBC/HRC/working/BIDS/sub-10618...</td>\n",
       "      <td>anat</td>\n",
       "      <td>nii.gz</td>\n",
       "      <td>refaced</td>\n",
       "      <td>3</td>\n",
       "      <td>1</td>\n",
       "      <td>10618</td>\n",
       "      <td>T1w</td>\n",
       "      <td>NaN</td>\n",
       "    </tr>\n",
       "    <tr>\n",
       "      <th>57</th>\n",
       "      <td>/cbica/projects/RBC/HRC/working/BIDS/sub-10618...</td>\n",
       "      <td>anat</td>\n",
       "      <td>json</td>\n",
       "      <td>refaced</td>\n",
       "      <td>2</td>\n",
       "      <td>2</td>\n",
       "      <td>10618</td>\n",
       "      <td>T1w</td>\n",
       "      <td>NaN</td>\n",
       "    </tr>\n",
       "    <tr>\n",
       "      <th>58</th>\n",
       "      <td>/cbica/projects/RBC/HRC/working/BIDS/sub-10618...</td>\n",
       "      <td>anat</td>\n",
       "      <td>nii.gz</td>\n",
       "      <td>refaced</td>\n",
       "      <td>2</td>\n",
       "      <td>2</td>\n",
       "      <td>10618</td>\n",
       "      <td>T1w</td>\n",
       "      <td>NaN</td>\n",
       "    </tr>\n",
       "  </tbody>\n",
       "</table>\n",
       "</div>"
      ],
      "text/plain": [
       "entity                                               path datatype extension  \\\n",
       "49      /cbica/projects/RBC/HRC/working/BIDS/sub-10618...     anat      json   \n",
       "50      /cbica/projects/RBC/HRC/working/BIDS/sub-10618...     anat    nii.gz   \n",
       "57      /cbica/projects/RBC/HRC/working/BIDS/sub-10618...     anat      json   \n",
       "58      /cbica/projects/RBC/HRC/working/BIDS/sub-10618...     anat    nii.gz   \n",
       "\n",
       "entity reconstruction run session subject suffix task  \n",
       "49            refaced   3       1   10618    T1w  NaN  \n",
       "50            refaced   3       1   10618    T1w  NaN  \n",
       "57            refaced   2       2   10618    T1w  NaN  \n",
       "58            refaced   2       2   10618    T1w  NaN  "
      ]
     },
     "execution_count": 69,
     "metadata": {},
     "output_type": "execute_result"
    }
   ],
   "source": [
    "df_updated.query('subject == \"10618\" & suffix == \"T1w\"')"
   ]
  },
  {
   "cell_type": "markdown",
   "id": "chemical-philadelphia",
   "metadata": {},
   "source": [
    "We can see that this subject has two sessions each with only one T1w.\n",
    "\n",
    "Last, we rename the T1s so that they're named `run-1`."
   ]
  },
  {
   "cell_type": "code",
   "execution_count": 73,
   "id": "international-offset",
   "metadata": {},
   "outputs": [
    {
     "data": {
      "text/html": [
       "<div>\n",
       "<style scoped>\n",
       "    .dataframe tbody tr th:only-of-type {\n",
       "        vertical-align: middle;\n",
       "    }\n",
       "\n",
       "    .dataframe tbody tr th {\n",
       "        vertical-align: top;\n",
       "    }\n",
       "\n",
       "    .dataframe thead th {\n",
       "        text-align: right;\n",
       "    }\n",
       "</style>\n",
       "<table border=\"1\" class=\"dataframe\">\n",
       "  <thead>\n",
       "    <tr style=\"text-align: right;\">\n",
       "      <th>entity</th>\n",
       "      <th>path</th>\n",
       "      <th>datatype</th>\n",
       "      <th>extension</th>\n",
       "      <th>reconstruction</th>\n",
       "      <th>run</th>\n",
       "      <th>session</th>\n",
       "      <th>subject</th>\n",
       "      <th>suffix</th>\n",
       "      <th>task</th>\n",
       "    </tr>\n",
       "  </thead>\n",
       "  <tbody>\n",
       "    <tr>\n",
       "      <th>49</th>\n",
       "      <td>/cbica/projects/RBC/HRC/working/BIDS/sub-10618...</td>\n",
       "      <td>anat</td>\n",
       "      <td>json</td>\n",
       "      <td>refaced</td>\n",
       "      <td>3</td>\n",
       "      <td>1</td>\n",
       "      <td>10618</td>\n",
       "      <td>T1w</td>\n",
       "      <td>NaN</td>\n",
       "    </tr>\n",
       "    <tr>\n",
       "      <th>50</th>\n",
       "      <td>/cbica/projects/RBC/HRC/working/BIDS/sub-10618...</td>\n",
       "      <td>anat</td>\n",
       "      <td>nii.gz</td>\n",
       "      <td>refaced</td>\n",
       "      <td>3</td>\n",
       "      <td>1</td>\n",
       "      <td>10618</td>\n",
       "      <td>T1w</td>\n",
       "      <td>NaN</td>\n",
       "    </tr>\n",
       "    <tr>\n",
       "      <th>57</th>\n",
       "      <td>/cbica/projects/RBC/HRC/working/BIDS/sub-10618...</td>\n",
       "      <td>anat</td>\n",
       "      <td>json</td>\n",
       "      <td>refaced</td>\n",
       "      <td>2</td>\n",
       "      <td>2</td>\n",
       "      <td>10618</td>\n",
       "      <td>T1w</td>\n",
       "      <td>NaN</td>\n",
       "    </tr>\n",
       "    <tr>\n",
       "      <th>58</th>\n",
       "      <td>/cbica/projects/RBC/HRC/working/BIDS/sub-10618...</td>\n",
       "      <td>anat</td>\n",
       "      <td>nii.gz</td>\n",
       "      <td>refaced</td>\n",
       "      <td>2</td>\n",
       "      <td>2</td>\n",
       "      <td>10618</td>\n",
       "      <td>T1w</td>\n",
       "      <td>NaN</td>\n",
       "    </tr>\n",
       "    <tr>\n",
       "      <th>65</th>\n",
       "      <td>/cbica/projects/RBC/HRC/working/BIDS/sub-10620...</td>\n",
       "      <td>anat</td>\n",
       "      <td>json</td>\n",
       "      <td>refaced</td>\n",
       "      <td>2</td>\n",
       "      <td>1</td>\n",
       "      <td>10620</td>\n",
       "      <td>T1w</td>\n",
       "      <td>NaN</td>\n",
       "    </tr>\n",
       "  </tbody>\n",
       "</table>\n",
       "</div>"
      ],
      "text/plain": [
       "entity                                               path datatype extension  \\\n",
       "49      /cbica/projects/RBC/HRC/working/BIDS/sub-10618...     anat      json   \n",
       "50      /cbica/projects/RBC/HRC/working/BIDS/sub-10618...     anat    nii.gz   \n",
       "57      /cbica/projects/RBC/HRC/working/BIDS/sub-10618...     anat      json   \n",
       "58      /cbica/projects/RBC/HRC/working/BIDS/sub-10618...     anat    nii.gz   \n",
       "65      /cbica/projects/RBC/HRC/working/BIDS/sub-10620...     anat      json   \n",
       "\n",
       "entity reconstruction run session subject suffix task  \n",
       "49            refaced   3       1   10618    T1w  NaN  \n",
       "50            refaced   3       1   10618    T1w  NaN  \n",
       "57            refaced   2       2   10618    T1w  NaN  \n",
       "58            refaced   2       2   10618    T1w  NaN  \n",
       "65            refaced   2       1   10620    T1w  NaN  "
      ]
     },
     "execution_count": 73,
     "metadata": {},
     "output_type": "execute_result"
    }
   ],
   "source": [
    "to_rename = df_updated.query('suffix == \"T1w\" & run > 1')\n",
    "to_rename.head()"
   ]
  },
  {
   "cell_type": "code",
   "execution_count": 75,
   "id": "brilliant-coordinate",
   "metadata": {},
   "outputs": [
    {
     "data": {
      "text/html": [
       "<div>\n",
       "<style scoped>\n",
       "    .dataframe tbody tr th:only-of-type {\n",
       "        vertical-align: middle;\n",
       "    }\n",
       "\n",
       "    .dataframe tbody tr th {\n",
       "        vertical-align: top;\n",
       "    }\n",
       "\n",
       "    .dataframe thead th {\n",
       "        text-align: right;\n",
       "    }\n",
       "</style>\n",
       "<table border=\"1\" class=\"dataframe\">\n",
       "  <thead>\n",
       "    <tr style=\"text-align: right;\">\n",
       "      <th>entity</th>\n",
       "      <th>path</th>\n",
       "      <th>datatype</th>\n",
       "      <th>extension</th>\n",
       "      <th>reconstruction</th>\n",
       "      <th>run</th>\n",
       "      <th>session</th>\n",
       "      <th>subject</th>\n",
       "      <th>suffix</th>\n",
       "      <th>task</th>\n",
       "    </tr>\n",
       "  </thead>\n",
       "  <tbody>\n",
       "    <tr>\n",
       "      <th>261</th>\n",
       "      <td>/cbica/projects/RBC/HRC/working/BIDS/sub-10650...</td>\n",
       "      <td>anat</td>\n",
       "      <td>json</td>\n",
       "      <td>refaced</td>\n",
       "      <td>2</td>\n",
       "      <td>1</td>\n",
       "      <td>10650</td>\n",
       "      <td>T1w</td>\n",
       "      <td>NaN</td>\n",
       "    </tr>\n",
       "  </tbody>\n",
       "</table>\n",
       "</div>"
      ],
      "text/plain": [
       "entity                                               path datatype extension  \\\n",
       "261     /cbica/projects/RBC/HRC/working/BIDS/sub-10650...     anat      json   \n",
       "\n",
       "entity reconstruction run session subject suffix task  \n",
       "261           refaced   2       1   10650    T1w  NaN  "
      ]
     },
     "execution_count": 75,
     "metadata": {},
     "output_type": "execute_result"
    }
   ],
   "source": [
    "to_rename.sample()"
   ]
  },
  {
   "cell_type": "markdown",
   "id": "cellular-surgeon",
   "metadata": {},
   "source": [
    "Now we just rename each of these."
   ]
  },
  {
   "cell_type": "code",
   "execution_count": 92,
   "id": "thick-experience",
   "metadata": {},
   "outputs": [],
   "source": [
    "def rename(row, test=True):\n",
    "    \n",
    "    path = row['path']\n",
    "    run = row['run']\n",
    "    replace = 'run-' + str(run)\n",
    "    new_name = path.replace(replace, 'run-1')\n",
    "    \n",
    "    if test:\n",
    "        print(\"renaming:{} --> {}\".format(path, new_name))\n",
    "    else:\n",
    "        os.rename(path, new_name)"
   ]
  },
  {
   "cell_type": "code",
   "execution_count": 96,
   "id": "herbal-buyer",
   "metadata": {},
   "outputs": [
    {
     "name": "stdout",
     "output_type": "stream",
     "text": [
      "renaming:/cbica/projects/RBC/HRC/working/BIDS/sub-10618/ses-1/anat/sub-10618_ses-1_rec-refaced_run-3_T1w.json --> /cbica/projects/RBC/HRC/working/BIDS/sub-10618/ses-1/anat/sub-10618_ses-1_rec-refaced_run-1_T1w.json\n",
      "renaming:/cbica/projects/RBC/HRC/working/BIDS/sub-10618/ses-1/anat/sub-10618_ses-1_rec-refaced_run-3_T1w.nii.gz --> /cbica/projects/RBC/HRC/working/BIDS/sub-10618/ses-1/anat/sub-10618_ses-1_rec-refaced_run-1_T1w.nii.gz\n",
      "renaming:/cbica/projects/RBC/HRC/working/BIDS/sub-10618/ses-2/anat/sub-10618_ses-2_rec-refaced_run-2_T1w.json --> /cbica/projects/RBC/HRC/working/BIDS/sub-10618/ses-2/anat/sub-10618_ses-2_rec-refaced_run-1_T1w.json\n",
      "renaming:/cbica/projects/RBC/HRC/working/BIDS/sub-10618/ses-2/anat/sub-10618_ses-2_rec-refaced_run-2_T1w.nii.gz --> /cbica/projects/RBC/HRC/working/BIDS/sub-10618/ses-2/anat/sub-10618_ses-2_rec-refaced_run-1_T1w.nii.gz\n",
      "renaming:/cbica/projects/RBC/HRC/working/BIDS/sub-10620/ses-1/anat/sub-10620_ses-1_rec-refaced_run-2_T1w.json --> /cbica/projects/RBC/HRC/working/BIDS/sub-10620/ses-1/anat/sub-10620_ses-1_rec-refaced_run-1_T1w.json\n",
      "renaming:/cbica/projects/RBC/HRC/working/BIDS/sub-10620/ses-1/anat/sub-10620_ses-1_rec-refaced_run-2_T1w.nii.gz --> /cbica/projects/RBC/HRC/working/BIDS/sub-10620/ses-1/anat/sub-10620_ses-1_rec-refaced_run-1_T1w.nii.gz\n",
      "renaming:/cbica/projects/RBC/HRC/working/BIDS/sub-10634/ses-1/anat/sub-10634_ses-1_rec-refaced_run-2_T1w.json --> /cbica/projects/RBC/HRC/working/BIDS/sub-10634/ses-1/anat/sub-10634_ses-1_rec-refaced_run-1_T1w.json\n",
      "renaming:/cbica/projects/RBC/HRC/working/BIDS/sub-10634/ses-1/anat/sub-10634_ses-1_rec-refaced_run-2_T1w.nii.gz --> /cbica/projects/RBC/HRC/working/BIDS/sub-10634/ses-1/anat/sub-10634_ses-1_rec-refaced_run-1_T1w.nii.gz\n",
      "renaming:/cbica/projects/RBC/HRC/working/BIDS/sub-10646/ses-1/anat/sub-10646_ses-1_rec-refaced_run-2_T1w.json --> /cbica/projects/RBC/HRC/working/BIDS/sub-10646/ses-1/anat/sub-10646_ses-1_rec-refaced_run-1_T1w.json\n",
      "renaming:/cbica/projects/RBC/HRC/working/BIDS/sub-10646/ses-1/anat/sub-10646_ses-1_rec-refaced_run-2_T1w.nii.gz --> /cbica/projects/RBC/HRC/working/BIDS/sub-10646/ses-1/anat/sub-10646_ses-1_rec-refaced_run-1_T1w.nii.gz\n"
     ]
    }
   ],
   "source": [
    "# use iterrows because we don't want to return anything\n",
    "# other wise: \n",
    "# to_rename.iloc[:10,].apply(lambda row: rename(row, test=True), axis=1)\n",
    "\n",
    "for i, row in to_rename.iloc[:10,].iterrows():\n",
    "    rename(row, test=True)"
   ]
  },
  {
   "cell_type": "code",
   "execution_count": 97,
   "id": "ethical-cleaner",
   "metadata": {},
   "outputs": [],
   "source": [
    "for i, row in to_rename.iterrows():\n",
    "    rename(row, test=False)"
   ]
  },
  {
   "cell_type": "markdown",
   "id": "norwegian-happiness",
   "metadata": {},
   "source": [
    "And the final check:"
   ]
  },
  {
   "cell_type": "code",
   "execution_count": 98,
   "id": "electrical-christmas",
   "metadata": {},
   "outputs": [
    {
     "name": "stderr",
     "output_type": "stream",
     "text": [
      "/cbica/projects/RBC/miniconda3/envs/bond/lib/python3.7/site-packages/bids/layout/models.py:152: FutureWarning: The 'extension' entity currently excludes the leading dot ('.'). As of version 0.14.0, it will include the leading dot. To suppress this warning and include the leading dot, use `bids.config.set_option('extension_initial_dot', True)`.\n",
      "  FutureWarning)\n"
     ]
    }
   ],
   "source": [
    "layout3 = BIDSLayout('/cbica/projects/RBC/HRC/working/BIDS', validate=False)\n",
    "\n",
    "df_final = layout3.to_df()"
   ]
  },
  {
   "cell_type": "code",
   "execution_count": 99,
   "id": "institutional-consideration",
   "metadata": {},
   "outputs": [
    {
     "data": {
      "text/html": [
       "<div>\n",
       "<style scoped>\n",
       "    .dataframe tbody tr th:only-of-type {\n",
       "        vertical-align: middle;\n",
       "    }\n",
       "\n",
       "    .dataframe tbody tr th {\n",
       "        vertical-align: top;\n",
       "    }\n",
       "\n",
       "    .dataframe thead th {\n",
       "        text-align: right;\n",
       "    }\n",
       "</style>\n",
       "<table border=\"1\" class=\"dataframe\">\n",
       "  <thead>\n",
       "    <tr style=\"text-align: right;\">\n",
       "      <th>entity</th>\n",
       "      <th>path</th>\n",
       "      <th>datatype</th>\n",
       "      <th>extension</th>\n",
       "      <th>reconstruction</th>\n",
       "      <th>run</th>\n",
       "      <th>session</th>\n",
       "      <th>subject</th>\n",
       "      <th>suffix</th>\n",
       "      <th>task</th>\n",
       "    </tr>\n",
       "  </thead>\n",
       "  <tbody>\n",
       "    <tr>\n",
       "      <th>1</th>\n",
       "      <td>/cbica/projects/RBC/HRC/working/BIDS/sub-10001...</td>\n",
       "      <td>anat</td>\n",
       "      <td>json</td>\n",
       "      <td>refaced</td>\n",
       "      <td>1</td>\n",
       "      <td>1</td>\n",
       "      <td>10001</td>\n",
       "      <td>T1w</td>\n",
       "      <td>NaN</td>\n",
       "    </tr>\n",
       "    <tr>\n",
       "      <th>2</th>\n",
       "      <td>/cbica/projects/RBC/HRC/working/BIDS/sub-10001...</td>\n",
       "      <td>anat</td>\n",
       "      <td>nii.gz</td>\n",
       "      <td>refaced</td>\n",
       "      <td>1</td>\n",
       "      <td>1</td>\n",
       "      <td>10001</td>\n",
       "      <td>T1w</td>\n",
       "      <td>NaN</td>\n",
       "    </tr>\n",
       "    <tr>\n",
       "      <th>9</th>\n",
       "      <td>/cbica/projects/RBC/HRC/working/BIDS/sub-10001...</td>\n",
       "      <td>anat</td>\n",
       "      <td>json</td>\n",
       "      <td>refaced</td>\n",
       "      <td>1</td>\n",
       "      <td>2</td>\n",
       "      <td>10001</td>\n",
       "      <td>T1w</td>\n",
       "      <td>NaN</td>\n",
       "    </tr>\n",
       "    <tr>\n",
       "      <th>10</th>\n",
       "      <td>/cbica/projects/RBC/HRC/working/BIDS/sub-10001...</td>\n",
       "      <td>anat</td>\n",
       "      <td>nii.gz</td>\n",
       "      <td>refaced</td>\n",
       "      <td>1</td>\n",
       "      <td>2</td>\n",
       "      <td>10001</td>\n",
       "      <td>T1w</td>\n",
       "      <td>NaN</td>\n",
       "    </tr>\n",
       "    <tr>\n",
       "      <th>17</th>\n",
       "      <td>/cbica/projects/RBC/HRC/working/BIDS/sub-10612...</td>\n",
       "      <td>anat</td>\n",
       "      <td>json</td>\n",
       "      <td>refaced</td>\n",
       "      <td>1</td>\n",
       "      <td>1</td>\n",
       "      <td>10612</td>\n",
       "      <td>T1w</td>\n",
       "      <td>NaN</td>\n",
       "    </tr>\n",
       "    <tr>\n",
       "      <th>...</th>\n",
       "      <td>...</td>\n",
       "      <td>...</td>\n",
       "      <td>...</td>\n",
       "      <td>...</td>\n",
       "      <td>...</td>\n",
       "      <td>...</td>\n",
       "      <td>...</td>\n",
       "      <td>...</td>\n",
       "      <td>...</td>\n",
       "    </tr>\n",
       "    <tr>\n",
       "      <th>6819</th>\n",
       "      <td>/cbica/projects/RBC/HRC/working/BIDS/sub-21858...</td>\n",
       "      <td>anat</td>\n",
       "      <td>nii.gz</td>\n",
       "      <td>refaced</td>\n",
       "      <td>1</td>\n",
       "      <td>2</td>\n",
       "      <td>21858</td>\n",
       "      <td>T1w</td>\n",
       "      <td>NaN</td>\n",
       "    </tr>\n",
       "    <tr>\n",
       "      <th>6826</th>\n",
       "      <td>/cbica/projects/RBC/HRC/working/BIDS/sub-21913...</td>\n",
       "      <td>anat</td>\n",
       "      <td>json</td>\n",
       "      <td>refaced</td>\n",
       "      <td>1</td>\n",
       "      <td>2</td>\n",
       "      <td>21913</td>\n",
       "      <td>T1w</td>\n",
       "      <td>NaN</td>\n",
       "    </tr>\n",
       "    <tr>\n",
       "      <th>6827</th>\n",
       "      <td>/cbica/projects/RBC/HRC/working/BIDS/sub-21913...</td>\n",
       "      <td>anat</td>\n",
       "      <td>nii.gz</td>\n",
       "      <td>refaced</td>\n",
       "      <td>1</td>\n",
       "      <td>2</td>\n",
       "      <td>21913</td>\n",
       "      <td>T1w</td>\n",
       "      <td>NaN</td>\n",
       "    </tr>\n",
       "    <tr>\n",
       "      <th>6834</th>\n",
       "      <td>/cbica/projects/RBC/HRC/working/BIDS/sub-21927...</td>\n",
       "      <td>anat</td>\n",
       "      <td>json</td>\n",
       "      <td>refaced</td>\n",
       "      <td>1</td>\n",
       "      <td>2</td>\n",
       "      <td>21927</td>\n",
       "      <td>T1w</td>\n",
       "      <td>NaN</td>\n",
       "    </tr>\n",
       "    <tr>\n",
       "      <th>6835</th>\n",
       "      <td>/cbica/projects/RBC/HRC/working/BIDS/sub-21927...</td>\n",
       "      <td>anat</td>\n",
       "      <td>nii.gz</td>\n",
       "      <td>refaced</td>\n",
       "      <td>1</td>\n",
       "      <td>2</td>\n",
       "      <td>21927</td>\n",
       "      <td>T1w</td>\n",
       "      <td>NaN</td>\n",
       "    </tr>\n",
       "  </tbody>\n",
       "</table>\n",
       "<p>1804 rows × 9 columns</p>\n",
       "</div>"
      ],
      "text/plain": [
       "entity                                               path datatype extension  \\\n",
       "1       /cbica/projects/RBC/HRC/working/BIDS/sub-10001...     anat      json   \n",
       "2       /cbica/projects/RBC/HRC/working/BIDS/sub-10001...     anat    nii.gz   \n",
       "9       /cbica/projects/RBC/HRC/working/BIDS/sub-10001...     anat      json   \n",
       "10      /cbica/projects/RBC/HRC/working/BIDS/sub-10001...     anat    nii.gz   \n",
       "17      /cbica/projects/RBC/HRC/working/BIDS/sub-10612...     anat      json   \n",
       "...                                                   ...      ...       ...   \n",
       "6819    /cbica/projects/RBC/HRC/working/BIDS/sub-21858...     anat    nii.gz   \n",
       "6826    /cbica/projects/RBC/HRC/working/BIDS/sub-21913...     anat      json   \n",
       "6827    /cbica/projects/RBC/HRC/working/BIDS/sub-21913...     anat    nii.gz   \n",
       "6834    /cbica/projects/RBC/HRC/working/BIDS/sub-21927...     anat      json   \n",
       "6835    /cbica/projects/RBC/HRC/working/BIDS/sub-21927...     anat    nii.gz   \n",
       "\n",
       "entity reconstruction run session subject suffix task  \n",
       "1             refaced   1       1   10001    T1w  NaN  \n",
       "2             refaced   1       1   10001    T1w  NaN  \n",
       "9             refaced   1       2   10001    T1w  NaN  \n",
       "10            refaced   1       2   10001    T1w  NaN  \n",
       "17            refaced   1       1   10612    T1w  NaN  \n",
       "...               ...  ..     ...     ...    ...  ...  \n",
       "6819          refaced   1       2   21858    T1w  NaN  \n",
       "6826          refaced   1       2   21913    T1w  NaN  \n",
       "6827          refaced   1       2   21913    T1w  NaN  \n",
       "6834          refaced   1       2   21927    T1w  NaN  \n",
       "6835          refaced   1       2   21927    T1w  NaN  \n",
       "\n",
       "[1804 rows x 9 columns]"
      ]
     },
     "execution_count": 99,
     "metadata": {},
     "output_type": "execute_result"
    }
   ],
   "source": [
    "# all T1s\n",
    "df_final.query('suffix == \"T1w\"')"
   ]
  },
  {
   "cell_type": "code",
   "execution_count": 100,
   "id": "spatial-punishment",
   "metadata": {},
   "outputs": [
    {
     "data": {
      "text/html": [
       "<div>\n",
       "<style scoped>\n",
       "    .dataframe tbody tr th:only-of-type {\n",
       "        vertical-align: middle;\n",
       "    }\n",
       "\n",
       "    .dataframe tbody tr th {\n",
       "        vertical-align: top;\n",
       "    }\n",
       "\n",
       "    .dataframe thead th {\n",
       "        text-align: right;\n",
       "    }\n",
       "</style>\n",
       "<table border=\"1\" class=\"dataframe\">\n",
       "  <thead>\n",
       "    <tr style=\"text-align: right;\">\n",
       "      <th>entity</th>\n",
       "      <th>path</th>\n",
       "      <th>datatype</th>\n",
       "      <th>extension</th>\n",
       "      <th>reconstruction</th>\n",
       "      <th>run</th>\n",
       "      <th>session</th>\n",
       "      <th>subject</th>\n",
       "      <th>suffix</th>\n",
       "      <th>task</th>\n",
       "    </tr>\n",
       "  </thead>\n",
       "  <tbody>\n",
       "  </tbody>\n",
       "</table>\n",
       "</div>"
      ],
      "text/plain": [
       "Empty DataFrame\n",
       "Columns: [path, datatype, extension, reconstruction, run, session, subject, suffix, task]\n",
       "Index: []"
      ]
     },
     "execution_count": 100,
     "metadata": {},
     "output_type": "execute_result"
    }
   ],
   "source": [
    "# this should be empty\n",
    "df_final.query('suffix == \"T1w\" & run > 1')"
   ]
  }
 ],
 "metadata": {
  "kernelspec": {
   "display_name": "Python 3",
   "language": "python",
   "name": "python3"
  },
  "language_info": {
   "codemirror_mode": {
    "name": "ipython",
    "version": 3
   },
   "file_extension": ".py",
   "mimetype": "text/x-python",
   "name": "python",
   "nbconvert_exporter": "python",
   "pygments_lexer": "ipython3",
   "version": "3.7.8"
  }
 },
 "nbformat": 4,
 "nbformat_minor": 5
}
